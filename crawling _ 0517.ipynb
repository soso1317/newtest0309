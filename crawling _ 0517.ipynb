{
 "cells": [
  {
   "cell_type": "code",
   "execution_count": 1,
   "id": "naval-directive",
   "metadata": {},
   "outputs": [],
   "source": [
    "import selenium\n",
    "from bs4 import BeautifulSoup\n",
    "from selenium import webdriver\n",
    "# selenium에서 사용할 웹 드라이버의 절대 경로\n",
    "\n",
    "path = \"C:/Users/user/webdriver/chromedriver.exe\"\n",
    "\n",
    "# selennium의 webdriver에 앞서 설치한 crhonedriver를 연동한다.\n",
    "driver = webdriver.Chrome(path)\n",
    "\n",
    "# driver로 특정 페이지를 크롤링한다.\n",
    "driver.get('https://www.korea.kr/news/pressReleaseList.do')\n",
    "\n"
   ]
  },
  {
   "cell_type": "code",
   "execution_count": 2,
   "id": "remarkable-flooring",
   "metadata": {},
   "outputs": [],
   "source": [
    "# 직접 파싱 후 접근하기 \n",
    "page_source = driver.page_source\n",
    "soup = BeautifulSoup(page_source, \"html.parser\")    # 셀레니움과 BS 의 연결\n",
    "#print(soup)"
   ]
  },
  {
   "cell_type": "code",
   "execution_count": null,
   "id": "endless-agency",
   "metadata": {
    "scrolled": true
   },
   "outputs": [],
   "source": [
    "article_list = driver.find_elements_by_css_selector('#container > div > article > div.article-content > div.list-type > ul > li')\n",
    "\n",
    "print( '보도자료수: {}'.format( len(article_list) ) )\n",
    "\n",
    "titles = []\n",
    "\n",
    "cnt = 1\n",
    "\n",
    "for i in article_list:\n",
    "#     print('기사제목 :', i.find_element_by_tag_name('dt').text)\n",
    "    titles.append(i.find_element_by_tag_name('dt').text)\n",
    "#     print('기사내용 :', i.find_element_by_tag_name('dd').text)\n",
    "#     print('관련부서 :', i.find_element_by_tag_name('dd.source').text)\n",
    "\n",
    "print(titles)"
   ]
  },
  {
   "cell_type": "code",
   "execution_count": 3,
   "id": "heavy-symposium",
   "metadata": {},
   "outputs": [
    {
     "name": "stdout",
     "output_type": "stream",
     "text": [
      "보도자료수: 20\n"
     ]
    }
   ],
   "source": [
    "article_list = driver.find_elements_by_css_selector('#container > div > article > div.article-content > div.list-type > ul > li')\n",
    "\n",
    "print( '보도자료수: {}'.format( len(article_list) ) )\n",
    "\n",
    "# 리스트 하기 전에 split 쪼개야함\n",
    "\n",
    "titles = []  # 보도자료명\n",
    "cont = []    # 기사발췌본...\n",
    "dept_day = [] # 부서날짜\n",
    "depts = []    # 관련부서\n",
    "pubdates = []   # 보도날짜\n",
    "urls = []       # 기사 링크\n",
    "\n",
    "cnt = 1\n",
    "for i in article_list:\n",
    "    titles.append(i.find_element_by_tag_name('dt').text)\n",
    "    cont.append(i.find_element_by_tag_name('dd').text)\n",
    "    tempstr = i.find_element_by_tag_name('dd.source').text\n",
    "    chunk = tempstr.split()   # 부서와 날짜가 하나로 된 것을 나눔\n",
    "    depts.append(chunk[0])    # 첫번째 요소를 부서로\n",
    "    pubdates.append(chunk[1])  # 두번째 요소를 날짜로\n",
    "    urls.append(i.find_element_by_tag_name('a').get_attribute('href'))"
   ]
  },
  {
   "cell_type": "code",
   "execution_count": 23,
   "id": "nuclear-mention",
   "metadata": {},
   "outputs": [],
   "source": [
    "# data frame 만들기\n",
    "\n",
    "import pandas as pd\n",
    "import numpy as np\n",
    "\n",
    "#array0 = ['부서', '보도일', '보도자료명', '기사내용', 'URL']\n",
    "\n",
    "array1 = np.array(depts)\n",
    "array2 = np.array(pubdates)\n",
    "array3 = np.array(titles)\n",
    "array4 = np.array(cont)\n",
    "array5 = np.array(urls)\n",
    "\n",
    "df_list1 = pd.DataFrame(depts, columns=['부서'])\n",
    "df_list2 = pd.DataFrame(pubdates, columns=['보도일']) \n",
    "df_list3 = pd.DataFrame(titles, columns=['보도자료명'])\n",
    "df_list4 = pd.DataFrame(cont, columns=['기사내용'])\n",
    "df_list5 = pd.DataFrame(urls, columns=['URL'])\n",
    "\n",
    "\n",
    "#test = []\n",
    "#test = pd.DataFrame({\n",
    "  #  'depts':['부서'] \n",
    "   # 'pubdates':['보도일']})\n",
    "    #titles, cont, urls)"
   ]
  },
  {
   "cell_type": "code",
   "execution_count": 25,
   "id": "speaking-jacksonville",
   "metadata": {},
   "outputs": [],
   "source": [
    "result_df = pd.concat([df_list1,df_list2, df_list3, df_list4, df_list5], axis=1)\n"
   ]
  },
  {
   "cell_type": "code",
   "execution_count": 27,
   "id": "authorized-blond",
   "metadata": {},
   "outputs": [],
   "source": [
    "result_df.to_csv('news.csv', encoding='utf-8-sig')"
   ]
  }
 ],
 "metadata": {
  "kernelspec": {
   "display_name": "Python 3",
   "language": "python",
   "name": "python3"
  },
  "language_info": {
   "codemirror_mode": {
    "name": "ipython",
    "version": 3
   },
   "file_extension": ".py",
   "mimetype": "text/x-python",
   "name": "python",
   "nbconvert_exporter": "python",
   "pygments_lexer": "ipython3",
   "version": "3.9.2"
  }
 },
 "nbformat": 4,
 "nbformat_minor": 5
}
