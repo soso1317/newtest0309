{
 "cells": [
  {
   "cell_type": "markdown",
   "id": "compatible-collective",
   "metadata": {},
   "source": [
    "# Day04 : 제어문의 활용(if, elif 등)"
   ]
  },
  {
   "cell_type": "code",
   "execution_count": 8,
   "id": "incident-lloyd",
   "metadata": {},
   "outputs": [
    {
     "ename": "SyntaxError",
     "evalue": "invalid syntax (<ipython-input-8-d99041280421>, line 2)",
     "output_type": "error",
     "traceback": [
      "\u001b[1;36m  File \u001b[1;32m\"<ipython-input-8-d99041280421>\"\u001b[1;36m, line \u001b[1;32m2\u001b[0m\n\u001b[1;33m    ```python\u001b[0m\n\u001b[1;37m    ^\u001b[0m\n\u001b[1;31mSyntaxError\u001b[0m\u001b[1;31m:\u001b[0m invalid syntax\n"
     ]
    }
   ],
   "source": [
    "## if 제어문의 형식\n",
    "```python\n",
    "\n",
    "if 조건식 : \n",
    "    실행할 문장\n",
    "```\n",
    "    "
   ]
  },
  {
   "cell_type": "code",
   "execution_count": 5,
   "id": "widespread-implement",
   "metadata": {},
   "outputs": [
    {
     "name": "stdout",
     "output_type": "stream",
     "text": [
      "숫자를 입력하세요 : 5\n",
      "홀수입니다\n",
      "프로그램을 종료합니다\n"
     ]
    }
   ],
   "source": [
    "# 홀수짝수 판단\n",
    "# 숫자를 2로 나눈 나머지가 0이면 짝수, 아니면 홀수  \n",
    "\n",
    "number = int(input(\"숫자를 입력하세요 : \"))\n",
    "\n",
    "if (number % 2 == 0) : \n",
    "    print(\"짝수입니다\")\n",
    "else :\n",
    "    print(\"홀수입니다\")\n",
    "    print(\"프로그램을 종료합니다\")\n",
    "\n"
   ]
  },
  {
   "cell_type": "code",
   "execution_count": 9,
   "id": "filled-advertiser",
   "metadata": {},
   "outputs": [
    {
     "name": "stdout",
     "output_type": "stream",
     "text": [
      "성별을 입력하세요(M:남자/F:여자) : M\n",
      "나이를 입력하세요. : 32\n",
      "30대 남자\n"
     ]
    }
   ],
   "source": [
    "# 성별과 연령을 입력받아 판단하는 프로그램 작성하시오.  \n",
    "\n",
    "gender = input(\"성별을 입력하세요(M:남자/F:여자) : \")\n",
    "age = int(input(\"나이를 입력하세요. : \"))\n",
    "if gender == 'M' or gender == 'm' :\n",
    "    if age >= 40 :\n",
    "        print(\"40대 이상 남자\")\n",
    "    elif age >= 30 : \n",
    "        print(\"30대 남자\")\n",
    "    elif age >= 20 :\n",
    "        print(\"20대 남자\")\n",
    "    else:\n",
    "        print(\"10대 이하 남자\")\n",
    "else :\n",
    "    if age >= 40 :\n",
    "        print(\"40대 이상 여자\")\n",
    "    elif age >= 30 : \n",
    "        print(\"30대 여자\")\n",
    "    elif age >= 20 :\n",
    "        print(\"20대 여자\")\n",
    "    else:\n",
    "        print(\"10대 이하 여자\")"
   ]
  },
  {
   "cell_type": "code",
   "execution_count": 13,
   "id": "attached-tamil",
   "metadata": {},
   "outputs": [
    {
     "name": "stdout",
     "output_type": "stream",
     "text": [
      "국어 점수 : 80\n",
      "수학 점수 : 70\n",
      "사회 점수 : 50\n",
      "F\n"
     ]
    }
   ],
   "source": [
    "# 국어, 산수, 사회 세 과목의 점수를 입력 받아 총점과 평균을 구하고,  \n",
    "# 평균이 90점 이상이면 A 등급, 80이상이면 B등급, 70이상이면 C등급  \n",
    "# 그 외 60이하면 F등급을 부여하는 프로그램을 작성하시오\n",
    "# 세 과목 점수를 입력 받는다  \n",
    "kor = int(input(\"국어 점수 : \"))\n",
    "math = int(input(\"수학 점수 : \"))\n",
    "soc = int(input(\"사회 점수 : \"))\n",
    "\n",
    "#총점과 평균을 구한다\n",
    "total = kor + math + soc\n",
    "average = total / 3\n",
    "\n",
    "#평균이 90이상이면 A\n",
    "if average >= 90 :\n",
    "    grade = 'A'\n",
    "elif average >=80:\n",
    "    grade = 'B'\n",
    "elif average >=70 :\n",
    "    grade = 'C'\n",
    "else : grade = 'F'\n",
    "print(grade)"
   ]
  },
  {
   "cell_type": "code",
   "execution_count": 25,
   "id": "early-subject",
   "metadata": {},
   "outputs": [
    {
     "name": "stdout",
     "output_type": "stream",
     "text": [
      "국어 점수 : 80\n",
      "수학 점수 : 80\n",
      "사회 점수 : 60\n",
      "총점 :   220 평균 :  73.3 등급: C\n"
     ]
    }
   ],
   "source": [
    "kor = int(input(\"국어 점수 : \"))\n",
    "math = int(input(\"수학 점수 : \"))\n",
    "soc = int(input(\"사회 점수 : \"))\n",
    "\n",
    "#총점과 평균을 구한다\n",
    "total = kor + math + soc\n",
    "average = total / 3\n",
    "\n",
    "#평균이 90이상이면 A\n",
    "if average >= 90 :\n",
    "    grade = 'A'\n",
    "elif average >=80:\n",
    "    grade = 'B'\n",
    "elif average >=70 :\n",
    "    grade = 'C'\n",
    "else : grade = 'F'\n",
    "\n",
    "\n",
    "# 총점, 평균, 성적을 출력한다\n",
    "\n",
    "\n",
    "print(\"총점 : {0:5d} 평균 : {1:5.1f} 등급: {2:s}\" .format(total, average, grade))\n",
    "\n"
   ]
  },
  {
   "cell_type": "code",
   "execution_count": 31,
   "id": "professional-retirement",
   "metadata": {},
   "outputs": [
    {
     "ename": "SyntaxError",
     "evalue": "invalid syntax (<ipython-input-31-95aeeff83d0a>, line 12)",
     "output_type": "error",
     "traceback": [
      "\u001b[1;36m  File \u001b[1;32m\"<ipython-input-31-95aeeff83d0a>\"\u001b[1;36m, line \u001b[1;32m12\u001b[0m\n\u001b[1;33m    if average >= 90 :\u001b[0m\n\u001b[1;37m                     ^\u001b[0m\n\u001b[1;31mSyntaxError\u001b[0m\u001b[1;31m:\u001b[0m invalid syntax\n"
     ]
    }
   ],
   "source": [
    "kor = int(input(\"국어 점수 : \"))\n",
    "math = int(input(\"수학 점수 : \"))\n",
    "soc = int(input(\"사회 점수 : \"))\n",
    "\n",
    "map(int, input(\"국어, 수학, 사회 점수를 차례대로 입력하시오\"). split(\",\")\n",
    "    \n",
    "#총점과 평균을 구한다\n",
    "#total = kor + math + soc\n",
    "#average = total / 3\n",
    "\n",
    "#평균이 90이상이면 A\n",
    "if average >= 90 :\n",
    "    grade = 'A'\n",
    "elif average >=80:\n",
    "    grade = 'B'\n",
    "elif average >=70 :\n",
    "    grade = 'C'\n",
    "else : grade = 'F'\n",
    "\n",
    "\n",
    "# 총점, 평균, 성적을 출력한다\n",
    "\n",
    "\n",
    "#print(\"총점 : {0:5d} 평균 : {1:5.1f} 등급: {2:s}\" .format(total, average, grade))"
   ]
  },
  {
   "cell_type": "code",
   "execution_count": 11,
   "id": "respective-arthritis",
   "metadata": {},
   "outputs": [
    {
     "name": "stdout",
     "output_type": "stream",
     "text": [
      "만 나이를 입력하세요 : 22\n",
      "나이 :  22 요금 : 1250 남은금액: 7750\n"
     ]
    }
   ],
   "source": [
    "# 심사문제: 교통카드 시스템 만들기 (책 p. 202)  \n",
    "age = int(input(\"만 나이를 입력하세요 : \"))\n",
    "if age >= 7 and age <=12 :\n",
    "    char = 650\n",
    "elif age > 13 and age <=18 :\n",
    "    char = 1050\n",
    "else : char = 1250\n",
    "fee = 9000-char\n",
    "\n",
    "\n",
    "print(\"나이 : {0:3d} 요금 : {1:3d} 남은금액: {2:3d}\" .format(age, char, fee))\n"
   ]
  },
  {
   "cell_type": "code",
   "execution_count": 12,
   "id": "czech-mountain",
   "metadata": {},
   "outputs": [
    {
     "name": "stdout",
     "output_type": "stream",
     "text": [
      "불합격\n"
     ]
    }
   ],
   "source": [
    "# 삼항 연산자를 사용한 if문\n",
    "score = 50\n",
    "result = ''\n",
    "result = '합격' if score >= 60 else '불합격'\n",
    "print(result)"
   ]
  },
  {
   "cell_type": "code",
   "execution_count": 13,
   "id": "ethical-attack",
   "metadata": {},
   "outputs": [
    {
     "name": "stdout",
     "output_type": "stream",
     "text": [
      "for문을 공부중입니다.\n",
      "for문을 공부중입니다.\n",
      "for문을 공부중입니다.\n"
     ]
    }
   ],
   "source": [
    "for i in range(0,3,1):\n",
    "        print(\"for문을 공부중입니다.\")"
   ]
  },
  {
   "cell_type": "code",
   "execution_count": 15,
   "id": "ordered-synthesis",
   "metadata": {},
   "outputs": [
    {
     "name": "stdout",
     "output_type": "stream",
     "text": [
      "for문을 공부중입니다. i값 : 0\n",
      "for문을 공부중입니다. i값 : 2\n"
     ]
    }
   ],
   "source": [
    "for i in range(0,4,2):\n",
    "        print(\"for문을 공부중입니다.\", \"i값 :\", i)"
   ]
  },
  {
   "cell_type": "code",
   "execution_count": 18,
   "id": "inclusive-backup",
   "metadata": {},
   "outputs": [
    {
     "ename": "NameError",
     "evalue": "name 'text' is not defined",
     "output_type": "error",
     "traceback": [
      "\u001b[1;31m---------------------------------------------------------------------------\u001b[0m",
      "\u001b[1;31mNameError\u001b[0m                                 Traceback (most recent call last)",
      "\u001b[1;32m<ipython-input-18-21452252798d>\u001b[0m in \u001b[0;36m<module>\u001b[1;34m\u001b[0m\n\u001b[1;32m----> 1\u001b[1;33m \u001b[0mlabel\u001b[0m\u001b[1;33m:\u001b[0m \u001b[0mtext\u001b[0m\u001b[1;33m\u001b[0m\u001b[1;33m\u001b[0m\u001b[0m\n\u001b[0m\u001b[0;32m      2\u001b[0m \u001b[1;33m\u001b[0m\u001b[0m\n\u001b[0;32m      3\u001b[0m \u001b[1;32mif\u001b[0m \u001b[0mi\u001b[0m \u001b[1;33m<\u001b[0m \u001b[1;36m3\u001b[0m \u001b[1;33m:\u001b[0m\u001b[1;33m\u001b[0m\u001b[1;33m\u001b[0m\u001b[0m\n\u001b[0;32m      4\u001b[0m     \u001b[0mprint\u001b[0m\u001b[1;33m(\u001b[0m\u001b[1;34m\"공부중\"\u001b[0m\u001b[1;33m)\u001b[0m\u001b[1;33m\u001b[0m\u001b[1;33m\u001b[0m\u001b[0m\n\u001b[0;32m      5\u001b[0m     \u001b[0mi\u001b[0m \u001b[1;33m=\u001b[0m \u001b[0mi\u001b[0m \u001b[1;33m+\u001b[0m \u001b[1;36m1\u001b[0m\u001b[1;33m\u001b[0m\u001b[1;33m\u001b[0m\u001b[0m\n",
      "\u001b[1;31mNameError\u001b[0m: name 'text' is not defined"
     ]
    }
   ],
   "source": [
    "label: text\n",
    "\n",
    "if i < 3 :\n",
    "    print(\"공부중\")\n",
    "    i = i + 1\n",
    "label : end"
   ]
  },
  {
   "cell_type": "code",
   "execution_count": 20,
   "id": "super-small",
   "metadata": {},
   "outputs": [
    {
     "name": "stdout",
     "output_type": "stream",
     "text": [
      "파이썬 중첩(i값 : 0, 값:0)\n",
      "파이썬 중첩(i값 : 0, 값:1)\n",
      "파이썬 중첩(i값 : 2, 값:0)\n",
      "파이썬 중첩(i값 : 2, 값:1)\n",
      "파이썬 중첩(i값 : 4, 값:0)\n",
      "파이썬 중첩(i값 : 4, 값:1)\n",
      "파이썬 중첩(i값 : 6, 값:0)\n",
      "파이썬 중첩(i값 : 6, 값:1)\n",
      "파이썬 중첩(i값 : 8, 값:0)\n",
      "파이썬 중첩(i값 : 8, 값:1)\n",
      "파이썬 중첩(i값 : 10, 값:0)\n",
      "파이썬 중첩(i값 : 10, 값:1)\n"
     ]
    }
   ],
   "source": [
    "# 중첩 for 문\n",
    "for i in range(0,12,2):\n",
    "    for k in range(0,2,1):\n",
    "        print(\"파이썬 중첩(i값 : %d, 값:%d)\"%(i,k))"
   ]
  },
  {
   "cell_type": "code",
   "execution_count": 42,
   "id": "eight-zoning",
   "metadata": {},
   "outputs": [
    {
     "name": "stdout",
     "output_type": "stream",
     "text": [
      "1~10까지의 합계 : 55\n",
      "3배수의 합계: 18\n"
     ]
    }
   ],
   "source": [
    "#1부터 10까지의 합계를 구하는 프로그램을 작성하세요\n",
    "sum = 0\n",
    "for number in range(1, 11):\n",
    "    sum += number\n",
    "print(\"1~10까지의 합계 : %d\" % sum)\n",
    "\n",
    "#1부터 10까지의 숫자 중 3의 배수의 합계를 구하는 프로그램을 작성하세요\n",
    "murtiple = 0\n",
    "for k in range(1, 11):\n",
    "    if (k % 3 == 0):\n",
    "        murtiple += k\n",
    "print(\"3배수의 합계: %d\" % murtiple)\n",
    "        "
   ]
  },
  {
   "cell_type": "code",
   "execution_count": 44,
   "id": "exterior-salem",
   "metadata": {},
   "outputs": [
    {
     "name": "stdout",
     "output_type": "stream",
     "text": [
      "반복횟수: 5\n",
      "숫자 0\n",
      "숫자 1\n",
      "숫자 2\n",
      "숫자 3\n",
      "숫자 4\n"
     ]
    }
   ],
   "source": [
    "# 입력한 횟수대로 반복\n",
    "count = int(input(\"반복횟수: \"))\n",
    "for i in range(count):\n",
    "    print(\"숫자\", i)"
   ]
  },
  {
   "cell_type": "code",
   "execution_count": 49,
   "id": "adolescent-sleeping",
   "metadata": {},
   "outputs": [
    {
     "name": "stdout",
     "output_type": "stream",
     "text": [
      "[1, 'apple', 20]\n",
      "(1, 'apple', 20)\n"
     ]
    }
   ],
   "source": [
    "a = [1, \"apple\", 20] # 리스트 (변경이 가능한데)\n",
    "print(a)\n",
    "\n",
    "a = (1, \"apple\", 20) # 튜플 (값을 업데이트, 추가가 불가)\n",
    "print(a)\n"
   ]
  },
  {
   "cell_type": "code",
   "execution_count": 52,
   "id": "nominated-fossil",
   "metadata": {},
   "outputs": [
    {
     "name": "stdout",
     "output_type": "stream",
     "text": [
      "k\n",
      "o\n",
      "r\n",
      "e\n",
      "a\n"
     ]
    }
   ],
   "source": [
    "a = 'korea'\n",
    "for datavalue in a :\n",
    "    print(datavalue)"
   ]
  },
  {
   "cell_type": "code",
   "execution_count": 57,
   "id": "korean-ambassador",
   "metadata": {},
   "outputs": [
    {
     "name": "stdout",
     "output_type": "stream",
     "text": [
      "55\n",
      "짝수의 합계 : 30, 홀수의 합계 : 25\n"
     ]
    }
   ],
   "source": [
    "# while loop 이용\n",
    "#1부터 10까지의 숫자의 합계를 구하시오\n",
    "\n",
    "number = 1\n",
    "sum = 0\n",
    "while number < 11 :\n",
    "    sum +=number\n",
    "    number +=1\n",
    "print(sum)\n",
    "\n",
    "#1부터 10까지의 숫자의 합계를 구하시오\n",
    "#홀수의 합과 짝수의 합으로 구분하여 구하시오\n",
    "number = 1\n",
    "oddsum = 0; evensum = 0\n",
    "while number < 11:\n",
    "    if number % 2 == 0 :\n",
    "        evensum += number\n",
    "    else :\n",
    "        oddsum += number\n",
    "    number += 1\n",
    "print(\"짝수의 합계 : %d, 홀수의 합계 : %d\"%(evensum, oddsum))"
   ]
  },
  {
   "cell_type": "code",
   "execution_count": null,
   "id": "backed-illness",
   "metadata": {},
   "outputs": [],
   "source": []
  }
 ],
 "metadata": {
  "kernelspec": {
   "display_name": "Python 3",
   "language": "python",
   "name": "python3"
  },
  "language_info": {
   "codemirror_mode": {
    "name": "ipython",
    "version": 3
   },
   "file_extension": ".py",
   "mimetype": "text/x-python",
   "name": "python",
   "nbconvert_exporter": "python",
   "pygments_lexer": "ipython3",
   "version": "3.9.2"
  }
 },
 "nbformat": 4,
 "nbformat_minor": 5
}
