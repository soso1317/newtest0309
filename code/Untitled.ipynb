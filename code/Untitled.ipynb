{
 "cells": [
  {
   "cell_type": "code",
   "execution_count": 3,
   "id": "worldwide-input",
   "metadata": {},
   "outputs": [
    {
     "name": "stdout",
     "output_type": "stream",
     "text": [
      "500+500\n"
     ]
    }
   ],
   "source": [
    "print(\"500+500\")"
   ]
  },
  {
   "cell_type": "code",
   "execution_count": 4,
   "id": "postal-productivity",
   "metadata": {},
   "outputs": [
    {
     "name": "stdout",
     "output_type": "stream",
     "text": [
      "1000\n"
     ]
    }
   ],
   "source": [
    "print(\"%d\"%(500+500))"
   ]
  },
  {
   "cell_type": "code",
   "execution_count": 5,
   "id": "offensive-kansas",
   "metadata": {},
   "outputs": [
    {
     "name": "stderr",
     "output_type": "stream",
     "text": [
      "<>:1: SyntaxWarning: 'str' object is not callable; perhaps you missed a comma?\n",
      "<>:1: SyntaxWarning: 'str' object is not callable; perhaps you missed a comma?\n",
      "<ipython-input-5-e69c05598e2a>:1: SyntaxWarning: 'str' object is not callable; perhaps you missed a comma?\n",
      "  print(\"%d\"(500,600))\n"
     ]
    },
    {
     "ename": "TypeError",
     "evalue": "'str' object is not callable",
     "output_type": "error",
     "traceback": [
      "\u001b[1;31m---------------------------------------------------------------------------\u001b[0m",
      "\u001b[1;31mTypeError\u001b[0m                                 Traceback (most recent call last)",
      "\u001b[1;32m<ipython-input-5-e69c05598e2a>\u001b[0m in \u001b[0;36m<module>\u001b[1;34m\u001b[0m\n\u001b[1;32m----> 1\u001b[1;33m \u001b[0mprint\u001b[0m\u001b[1;33m(\u001b[0m\u001b[1;34m\"%d\"\u001b[0m\u001b[1;33m(\u001b[0m\u001b[1;36m500\u001b[0m\u001b[1;33m,\u001b[0m\u001b[1;36m600\u001b[0m\u001b[1;33m)\u001b[0m\u001b[1;33m)\u001b[0m\u001b[1;33m\u001b[0m\u001b[1;33m\u001b[0m\u001b[0m\n\u001b[0m",
      "\u001b[1;31mTypeError\u001b[0m: 'str' object is not callable"
     ]
    }
   ],
   "source": [
    "print(\"%d\"(500,600))"
   ]
  },
  {
   "cell_type": "code",
   "execution_count": 6,
   "id": "refined-chamber",
   "metadata": {},
   "outputs": [
    {
     "ename": "SyntaxError",
     "evalue": "unmatched ')' (<ipython-input-6-d05dd004c2db>, line 1)",
     "output_type": "error",
     "traceback": [
      "\u001b[1;36m  File \u001b[1;32m\"<ipython-input-6-d05dd004c2db>\"\u001b[1;36m, line \u001b[1;32m1\u001b[0m\n\u001b[1;33m    print(\"%d %d\"%700))\u001b[0m\n\u001b[1;37m                      ^\u001b[0m\n\u001b[1;31mSyntaxError\u001b[0m\u001b[1;31m:\u001b[0m unmatched ')'\n"
     ]
    }
   ],
   "source": [
    "print(\"%d %d\"%700))"
   ]
  },
  {
   "cell_type": "code",
   "execution_count": 7,
   "id": "about-runner",
   "metadata": {},
   "outputs": [
    {
     "name": "stdout",
     "output_type": "stream",
     "text": [
      "적당한 수입니다\n",
      "프로그램 끝입니다\n"
     ]
    }
   ],
   "source": [
    "a=123\n",
    "if a> 100:\n",
    "    if a > 200:\n",
    "        print(\"완전히 큰 수입니다\")\n",
    "    else:\n",
    "        print(\"적당한 수입니다\")\n",
    "else:\n",
    "    print(\"완전히 작은 수입니다\")\n",
    "print(\"프로그램 끝입니다\")"
   ]
  },
  {
   "cell_type": "code",
   "execution_count": 14,
   "id": "interracial-edwards",
   "metadata": {},
   "outputs": [
    {
     "name": "stdout",
     "output_type": "stream",
     "text": [
      "100부터 200까지의 2의 배수 합계: 7650\n"
     ]
    }
   ],
   "source": [
    "i, hap = 0,0\n",
    "for i in range(100, 201, 2):\n",
    "    hap = hap + i\n",
    "print(\"100부터 200까지의 2의 배수 합계: %d\" % hap)"
   ]
  },
  {
   "cell_type": "code",
   "execution_count": null,
   "id": "developed-ballot",
   "metadata": {},
   "outputs": [],
   "source": []
  }
 ],
 "metadata": {
  "kernelspec": {
   "display_name": "Python 3",
   "language": "python",
   "name": "python3"
  },
  "language_info": {
   "codemirror_mode": {
    "name": "ipython",
    "version": 3
   },
   "file_extension": ".py",
   "mimetype": "text/x-python",
   "name": "python",
   "nbconvert_exporter": "python",
   "pygments_lexer": "ipython3",
   "version": "3.9.2"
  }
 },
 "nbformat": 4,
 "nbformat_minor": 5
}
