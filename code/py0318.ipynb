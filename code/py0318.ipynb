{
 "cells": [
  {
   "cell_type": "markdown",
   "id": "brazilian-clinton",
   "metadata": {},
   "source": [
    "# Day06 : 함수"
   ]
  },
  {
   "cell_type": "code",
   "execution_count": 3,
   "id": "demonstrated-heavy",
   "metadata": {},
   "outputs": [],
   "source": [
    "def greet(name):\n",
    "    print(\"Hello, \" + name + \". Good Morning\")"
   ]
  },
  {
   "cell_type": "code",
   "execution_count": 4,
   "id": "opposite-mixer",
   "metadata": {},
   "outputs": [
    {
     "name": "stdout",
     "output_type": "stream",
     "text": [
      "Hello, 훈선님. Good Morning\n"
     ]
    }
   ],
   "source": [
    "greet('훈선님')"
   ]
  },
  {
   "cell_type": "code",
   "execution_count": 5,
   "id": "minus-intensity",
   "metadata": {},
   "outputs": [
    {
     "name": "stdout",
     "output_type": "stream",
     "text": [
      "Hello, 정한님. Good Morning\n",
      "Hello, 유리님. Good Morning\n"
     ]
    }
   ],
   "source": [
    "greet('정한님')\n",
    "greet('유리님')"
   ]
  },
  {
   "cell_type": "code",
   "execution_count": 6,
   "id": "assumed-governor",
   "metadata": {},
   "outputs": [],
   "source": [
    "def greet(name, time):\n",
    "    print(\"Hello, \" + name + time)"
   ]
  },
  {
   "cell_type": "code",
   "execution_count": 8,
   "id": "ambient-magic",
   "metadata": {},
   "outputs": [
    {
     "name": "stdout",
     "output_type": "stream",
     "text": [
      "Hello, 정한님. 아침은 드셨나요?\n"
     ]
    }
   ],
   "source": [
    "greet('정한님', \". 아침은 드셨나요?\")"
   ]
  },
  {
   "cell_type": "code",
   "execution_count": 9,
   "id": "prescribed-reading",
   "metadata": {},
   "outputs": [
    {
     "name": "stdout",
     "output_type": "stream",
     "text": [
      "Hello, 유리님. 날씨가 좋네요\n"
     ]
    }
   ],
   "source": [
    "greet('유리님', '. 날씨가 좋네요')"
   ]
  },
  {
   "cell_type": "code",
   "execution_count": 11,
   "id": "sixth-hawaii",
   "metadata": {},
   "outputs": [
    {
     "ename": "TypeError",
     "evalue": "greet() missing 1 required positional argument: 'time'",
     "output_type": "error",
     "traceback": [
      "\u001b[1;31m---------------------------------------------------------------------------\u001b[0m",
      "\u001b[1;31mTypeError\u001b[0m                                 Traceback (most recent call last)",
      "\u001b[1;32m<ipython-input-11-e7c5ffc0a77d>\u001b[0m in \u001b[0;36m<module>\u001b[1;34m\u001b[0m\n\u001b[1;32m----> 1\u001b[1;33m \u001b[0mgreet\u001b[0m\u001b[1;33m(\u001b[0m\u001b[1;34m'유리님'\u001b[0m\u001b[1;33m)\u001b[0m \u001b[1;31m# argument 'time' 입력을 하지 않았을 때\u001b[0m\u001b[1;33m\u001b[0m\u001b[1;33m\u001b[0m\u001b[0m\n\u001b[0m",
      "\u001b[1;31mTypeError\u001b[0m: greet() missing 1 required positional argument: 'time'"
     ]
    }
   ],
   "source": [
    "greet('유리님') # argument 'time' 입력을 하지 않았을 때"
   ]
  },
  {
   "cell_type": "code",
   "execution_count": 17,
   "id": "bigger-federation",
   "metadata": {},
   "outputs": [],
   "source": [
    "def greet(name, time = \". 아침은 드셨나요?\"):# 처음부터 아예 고정\n",
    "    print(\"Hello, \" + name + time)"
   ]
  },
  {
   "cell_type": "code",
   "execution_count": 18,
   "id": "impossible-savannah",
   "metadata": {},
   "outputs": [
    {
     "name": "stdout",
     "output_type": "stream",
     "text": [
      "Hello, 유리님. 아침은 드셨나요?\n"
     ]
    }
   ],
   "source": [
    "greet('유리님') "
   ]
  },
  {
   "cell_type": "code",
   "execution_count": 20,
   "id": "superb-christianity",
   "metadata": {},
   "outputs": [
    {
     "name": "stdout",
     "output_type": "stream",
     "text": [
      "30\n"
     ]
    }
   ],
   "source": [
    "def funcionAdd(num1, num2):\n",
    "    return num1 + num2\n",
    "\n",
    "result = funcionAdd(10, 20)\n",
    "print(result)"
   ]
  },
  {
   "cell_type": "code",
   "execution_count": 21,
   "id": "explicit-wagner",
   "metadata": {},
   "outputs": [],
   "source": [
    "def abs_value(number):\n",
    "    if number >= 0 :\n",
    "        return number\n",
    "    else :\n",
    "        return -number"
   ]
  },
  {
   "cell_type": "code",
   "execution_count": 22,
   "id": "traditional-classics",
   "metadata": {},
   "outputs": [
    {
     "data": {
      "text/plain": [
       "5"
      ]
     },
     "execution_count": 22,
     "metadata": {},
     "output_type": "execute_result"
    }
   ],
   "source": [
    "abs_value(-5)"
   ]
  },
  {
   "cell_type": "code",
   "execution_count": 31,
   "id": "orange-oxford",
   "metadata": {},
   "outputs": [
    {
     "name": "stdout",
     "output_type": "stream",
     "text": [
      "(1,)\n",
      "1\n",
      "(1, 2)\n",
      "3\n",
      "(1, 2, 3)\n",
      "6\n"
     ]
    }
   ],
   "source": [
    "def varSum(*numbers):\n",
    "    print(numbers)\n",
    "    sum = 0\n",
    "    for number in numbers:\n",
    "        sum += number\n",
    "    return sum\n",
    "\n",
    "print(varSum(1))\n",
    "print(varSum(1,2))\n",
    "print(varSum(1,2,3))"
   ]
  },
  {
   "cell_type": "code",
   "execution_count": 36,
   "id": "revised-silly",
   "metadata": {},
   "outputs": [],
   "source": [
    "# 두 수를 패러미터로 전달받아, 몫과 나머지를 반환하는 함수를 선언하고 \n",
    "# 10과 4를 패러미터로 절달하여 실행해보기\n",
    "\n",
    "\n",
    "def val1(num1, num2):\n",
    "    return num1//num2, num1%num2"
   ]
  },
  {
   "cell_type": "code",
   "execution_count": 37,
   "id": "afraid-premises",
   "metadata": {},
   "outputs": [
    {
     "name": "stdout",
     "output_type": "stream",
     "text": [
      "(2, 2)\n"
     ]
    }
   ],
   "source": [
    "print(val1(10,4))"
   ]
  },
  {
   "cell_type": "code",
   "execution_count": 39,
   "id": "retained-dayton",
   "metadata": {},
   "outputs": [],
   "source": [
    "def getQuotientRemainder(num1, num2):\n",
    "    return num1//num2, num1%num2\n",
    "q,r = getQuotientRemainder(10,4)\n",
    "    "
   ]
  },
  {
   "cell_type": "code",
   "execution_count": 41,
   "id": "injured-chemistry",
   "metadata": {},
   "outputs": [
    {
     "name": "stdout",
     "output_type": "stream",
     "text": [
      "2\n",
      "2\n"
     ]
    }
   ],
   "source": [
    "print(q)\n",
    "print(r)"
   ]
  },
  {
   "cell_type": "code",
   "execution_count": 47,
   "id": "frequent-tracker",
   "metadata": {},
   "outputs": [
    {
     "name": "stdout",
     "output_type": "stream",
     "text": [
      "이름 :  홍길동\n",
      "나이 :  19\n",
      "주소 :  청주시 상당구\n"
     ]
    }
   ],
   "source": [
    "# keyword parameter (키워드 인수)\n",
    "\n",
    "def personalinfo(name, age, address):\n",
    "    print('이름 : ', name)\n",
    "    print('나이 : ', age)\n",
    "    print('주소 : ', address)\n",
    "\n",
    "personalinfo('홍길동', 19, '청주시 상당구')"
   ]
  },
  {
   "cell_type": "code",
   "execution_count": 48,
   "id": "metropolitan-heart",
   "metadata": {},
   "outputs": [],
   "source": [
    "# 딕셔너리 언패킹\n",
    "x = {'name': '홍길동', 'age':30, 'address': '서울시 용산구 이촌동'}"
   ]
  },
  {
   "cell_type": "code",
   "execution_count": 51,
   "id": "photographic-laundry",
   "metadata": {},
   "outputs": [
    {
     "name": "stdout",
     "output_type": "stream",
     "text": [
      "이름 :  홍길동\n",
      "나이 :  30\n",
      "주소 :  서울시 용산구 이촌동\n"
     ]
    }
   ],
   "source": [
    "personalinfo(**x)"
   ]
  },
  {
   "cell_type": "code",
   "execution_count": 4,
   "id": "shared-portsmouth",
   "metadata": {},
   "outputs": [
    {
     "data": {
      "text/plain": [
       "2"
      ]
     },
     "execution_count": 4,
     "metadata": {},
     "output_type": "execute_result"
    }
   ],
   "source": [
    "# 재귀호출\n",
    "\n",
    "def factorial(number):\n",
    "    if number == 1:\n",
    "        return 1\n",
    "    else :\n",
    "        return number * factorial(number-1)\n",
    "    \n",
    "factorial(2)"
   ]
  },
  {
   "cell_type": "code",
   "execution_count": 6,
   "id": "bibliographic-tulsa",
   "metadata": {},
   "outputs": [
    {
     "data": {
      "text/plain": [
       "120"
      ]
     },
     "execution_count": 6,
     "metadata": {},
     "output_type": "execute_result"
    }
   ],
   "source": [
    "factorial(5)"
   ]
  },
  {
   "cell_type": "code",
   "execution_count": 9,
   "id": "starting-binary",
   "metadata": {},
   "outputs": [
    {
     "ename": "NameError",
     "evalue": "name 'teacher' is not defined",
     "output_type": "error",
     "traceback": [
      "\u001b[1;31m---------------------------------------------------------------------------\u001b[0m",
      "\u001b[1;31mNameError\u001b[0m                                 Traceback (most recent call last)",
      "\u001b[1;32m<ipython-input-9-3a51bc38f24e>\u001b[0m in \u001b[0;36m<module>\u001b[1;34m\u001b[0m\n\u001b[0;32m      6\u001b[0m \u001b[1;33m\u001b[0m\u001b[0m\n\u001b[0;32m      7\u001b[0m \u001b[0mR703\u001b[0m\u001b[1;33m(\u001b[0m\u001b[1;33m)\u001b[0m\u001b[1;33m\u001b[0m\u001b[1;33m\u001b[0m\u001b[0m\n\u001b[1;32m----> 8\u001b[1;33m \u001b[0mprint\u001b[0m\u001b[1;33m(\u001b[0m\u001b[0mteacher\u001b[0m\u001b[1;33m)\u001b[0m\u001b[1;33m\u001b[0m\u001b[1;33m\u001b[0m\u001b[0m\n\u001b[0m",
      "\u001b[1;31mNameError\u001b[0m: name 'teacher' is not defined"
     ]
    }
   ],
   "source": [
    "# 지역변수, 전역변수\n",
    "\n",
    "def R703():\n",
    "    teacher = '이성종'\n",
    "    print(teacher)\n",
    "    \n",
    "R703()\n"
   ]
  },
  {
   "cell_type": "code",
   "execution_count": 23,
   "id": "through-connectivity",
   "metadata": {},
   "outputs": [
    {
     "name": "stdout",
     "output_type": "stream",
     "text": [
      "한국아이티\n",
      "이성종\n",
      "한국아이티\n"
     ]
    }
   ],
   "source": [
    "# 지역변수, 전역변수\n",
    "teacher = '한국아이티'\n",
    "print(teacher)\n",
    "def R703():\n",
    "    teacher = '이성종'\n",
    "    print(teacher)\n",
    "    \n",
    "R703()\n",
    "print(teacher)\n"
   ]
  },
  {
   "cell_type": "code",
   "execution_count": 22,
   "id": "friendly-algorithm",
   "metadata": {},
   "outputs": [
    {
     "name": "stdout",
     "output_type": "stream",
     "text": [
      "한국아이티\n",
      "이성종\n",
      "이성종\n"
     ]
    }
   ],
   "source": [
    "\n",
    "teacher = '한국아이티'\n",
    "print(teacher)\n",
    "def R703():\n",
    "    global teacher\n",
    "    teacher = '이성종'\n",
    "    print(teacher)\n",
    "\n",
    "R703()\n",
    "print(teacher)"
   ]
  },
  {
   "cell_type": "code",
   "execution_count": null,
   "id": "connected-matter",
   "metadata": {},
   "outputs": [],
   "source": []
  }
 ],
 "metadata": {
  "kernelspec": {
   "display_name": "Python 3",
   "language": "python",
   "name": "python3"
  },
  "language_info": {
   "codemirror_mode": {
    "name": "ipython",
    "version": 3
   },
   "file_extension": ".py",
   "mimetype": "text/x-python",
   "name": "python",
   "nbconvert_exporter": "python",
   "pygments_lexer": "ipython3",
   "version": "3.9.2"
  }
 },
 "nbformat": 4,
 "nbformat_minor": 5
}
