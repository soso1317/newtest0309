{
 "cells": [
  {
   "cell_type": "markdown",
   "id": "aggregate-gardening",
   "metadata": {},
   "source": [
    "# Day05 : 제어문의 활용2"
   ]
  },
  {
   "cell_type": "code",
   "execution_count": 27,
   "id": "increased-karaoke",
   "metadata": {},
   "outputs": [
    {
     "name": "stdout",
     "output_type": "stream",
     "text": [
      "  2 *   1 =   2\n",
      "  2 *   2 =   4\n",
      "  2 *   3 =   6\n",
      "  2 *   4 =   8\n",
      "  2 *   5 =  10\n",
      "  2 *   6 =  12\n",
      "  2 *   7 =  14\n",
      "  2 *   8 =  16\n",
      "  2 *   9 =  18\n",
      "\n",
      "  3 *   1 =   3\n",
      "  3 *   2 =   6\n",
      "  3 *   3 =   9\n",
      "  3 *   4 =  12\n",
      "  3 *   5 =  15\n",
      "  3 *   6 =  18\n",
      "  3 *   7 =  21\n",
      "  3 *   8 =  24\n",
      "  3 *   9 =  27\n",
      "\n",
      "  4 *   1 =   4\n",
      "  4 *   2 =   8\n",
      "  4 *   3 =  12\n",
      "  4 *   4 =  16\n",
      "  4 *   5 =  20\n",
      "  4 *   6 =  24\n",
      "  4 *   7 =  28\n",
      "  4 *   8 =  32\n",
      "  4 *   9 =  36\n",
      "\n",
      "  5 *   1 =   5\n",
      "  5 *   2 =  10\n",
      "  5 *   3 =  15\n",
      "  5 *   4 =  20\n",
      "  5 *   5 =  25\n",
      "  5 *   6 =  30\n",
      "  5 *   7 =  35\n",
      "  5 *   8 =  40\n",
      "  5 *   9 =  45\n",
      "\n",
      "  6 *   1 =   6\n",
      "  6 *   2 =  12\n",
      "  6 *   3 =  18\n",
      "  6 *   4 =  24\n",
      "  6 *   5 =  30\n",
      "  6 *   6 =  36\n",
      "  6 *   7 =  42\n",
      "  6 *   8 =  48\n",
      "  6 *   9 =  54\n",
      "\n",
      "  7 *   1 =   7\n",
      "  7 *   2 =  14\n",
      "  7 *   3 =  21\n",
      "  7 *   4 =  28\n",
      "  7 *   5 =  35\n",
      "  7 *   6 =  42\n",
      "  7 *   7 =  49\n",
      "  7 *   8 =  56\n",
      "  7 *   9 =  63\n",
      "\n",
      "  8 *   1 =   8\n",
      "  8 *   2 =  16\n",
      "  8 *   3 =  24\n",
      "  8 *   4 =  32\n",
      "  8 *   5 =  40\n",
      "  8 *   6 =  48\n",
      "  8 *   7 =  56\n",
      "  8 *   8 =  64\n",
      "  8 *   9 =  72\n",
      "\n",
      "  9 *   1 =   9\n",
      "  9 *   2 =  18\n",
      "  9 *   3 =  27\n",
      "  9 *   4 =  36\n",
      "  9 *   5 =  45\n",
      "  9 *   6 =  54\n",
      "  9 *   7 =  63\n",
      "  9 *   8 =  72\n",
      "  9 *   9 =  81\n",
      "\n",
      "       2단           3단\n",
      " 2 *  1 =  2     3 *  1 =  3\n",
      " 2 *  2 =  4     3 *  2 =  6\n",
      " 2 *  3 =  6     3 *  3 =  9\n",
      " 2 *  4 =  8     3 *  4 = 12\n",
      " 2 *  5 = 10     3 *  5 = 15\n",
      " 2 *  6 = 12     3 *  6 = 18\n",
      " 2 *  7 = 14     3 *  7 = 21\n",
      " 2 *  8 = 16     3 *  8 = 24\n",
      " 2 *  9 = 18     3 *  9 = 27\n",
      "\n",
      "       4단           5단\n",
      " 4 *  1 =  4     5 *  1 =  5\n",
      " 4 *  2 =  8     5 *  2 = 10\n",
      " 4 *  3 = 12     5 *  3 = 15\n",
      " 4 *  4 = 16     5 *  4 = 20\n",
      " 4 *  5 = 20     5 *  5 = 25\n",
      " 4 *  6 = 24     5 *  6 = 30\n",
      " 4 *  7 = 28     5 *  7 = 35\n",
      " 4 *  8 = 32     5 *  8 = 40\n",
      " 4 *  9 = 36     5 *  9 = 45\n",
      "\n",
      "       6단           7단\n",
      " 6 *  1 =  6     7 *  1 =  7\n",
      " 6 *  2 = 12     7 *  2 = 14\n",
      " 6 *  3 = 18     7 *  3 = 21\n",
      " 6 *  4 = 24     7 *  4 = 28\n",
      " 6 *  5 = 30     7 *  5 = 35\n",
      " 6 *  6 = 36     7 *  6 = 42\n",
      " 6 *  7 = 42     7 *  7 = 49\n",
      " 6 *  8 = 48     7 *  8 = 56\n",
      " 6 *  9 = 54     7 *  9 = 63\n",
      "\n",
      "       8단           9단\n",
      " 8 *  1 =  8     9 *  1 =  9\n",
      " 8 *  2 = 16     9 *  2 = 18\n",
      " 8 *  3 = 24     9 *  3 = 27\n",
      " 8 *  4 = 32     9 *  4 = 36\n",
      " 8 *  5 = 40     9 *  5 = 45\n",
      " 8 *  6 = 48     9 *  6 = 54\n",
      " 8 *  7 = 56     9 *  7 = 63\n",
      " 8 *  8 = 64     9 *  8 = 72\n",
      " 8 *  9 = 72     9 *  9 = 81\n",
      "\n"
     ]
    }
   ],
   "source": [
    "# 다중 for loop : 구구단\n",
    "for i in range(2, 10):\n",
    "    for j in range(1,10):\n",
    "        print(\"{0:3d} * {1:3d} = {2:3d}\".format(i,j,i*j))\n",
    "    print(\"\")\n",
    "\n",
    "# 다중 for loop : 구구단2\n",
    "for i in range(2, 10, 2):\n",
    "    print(\"       %d단           %d단\"%(i, i+1))\n",
    "    for j in range(1,10):\n",
    "        print(\"{0:2d} * {1:2d} = {2:2d}    {3:2d} * {4:2d} = {5:2d}\".format(i,j,i*j, i+1, j, (i+1)*j))\n",
    "    print(\"\")"
   ]
  },
  {
   "cell_type": "markdown",
   "id": "passive-alarm",
   "metadata": {},
   "source": [
    "### 기본 구조"
   ]
  },
  {
   "cell_type": "code",
   "execution_count": 26,
   "id": "referenced-jefferson",
   "metadata": {},
   "outputs": [
    {
     "name": "stdout",
     "output_type": "stream",
     "text": [
      "[1, 2, 3]\n"
     ]
    },
    {
     "data": {
      "text/plain": [
       "list"
      ]
     },
     "execution_count": 26,
     "metadata": {},
     "output_type": "execute_result"
    }
   ],
   "source": [
    "# 리스트 생성 1 [] 사용 : 직접 입력\n",
    "lst_a = [1,2,3]\n",
    "print(lst_a)\n",
    "type(lst_a)"
   ]
  },
  {
   "cell_type": "code",
   "execution_count": 25,
   "id": "proud-russian",
   "metadata": {},
   "outputs": [
    {
     "name": "stdout",
     "output_type": "stream",
     "text": [
      "[0, 1, 2, 3]\n"
     ]
    },
    {
     "data": {
      "text/plain": [
       "list"
      ]
     },
     "execution_count": 25,
     "metadata": {},
     "output_type": "execute_result"
    }
   ],
   "source": [
    "# 리스트 생성 2 [] 사용 : range 사용\n",
    "lst_b = list(range(4))\n",
    "print(lst_b)\n",
    "type(lst_b)"
   ]
  },
  {
   "cell_type": "code",
   "execution_count": 28,
   "id": "variable-failing",
   "metadata": {},
   "outputs": [
    {
     "name": "stdout",
     "output_type": "stream",
     "text": [
      "['홍길동', 19, 181.5, True]\n"
     ]
    }
   ],
   "source": [
    "person = ['홍길동', 19, 181.5, True]\n",
    "print(person)\n"
   ]
  },
  {
   "cell_type": "code",
   "execution_count": 38,
   "id": "atmospheric-sheep",
   "metadata": {},
   "outputs": [
    {
     "name": "stdout",
     "output_type": "stream",
     "text": [
      "['홍길동', 19, 181.5]\n",
      "['홍길동', 181.5]\n"
     ]
    }
   ],
   "source": [
    "print(person[0:3])\n",
    "print(person[0:3:2]) # 2번 인덱스 제외"
   ]
  },
  {
   "cell_type": "code",
   "execution_count": 43,
   "id": "surprised-administrator",
   "metadata": {},
   "outputs": [
    {
     "name": "stdout",
     "output_type": "stream",
     "text": [
      "['한국아이티']\n"
     ]
    }
   ],
   "source": [
    "lst_a = []\n",
    "lst_a.append(\"한국아이티\"); print(lst_a)"
   ]
  },
  {
   "cell_type": "code",
   "execution_count": 46,
   "id": "linear-advocate",
   "metadata": {},
   "outputs": [
    {
     "name": "stdout",
     "output_type": "stream",
     "text": [
      "['한국아이티', '259-2800', '259-2800', '259-2800']\n"
     ]
    }
   ],
   "source": [
    "lst_a.append(\"259-2800\"); print(lst_a)"
   ]
  },
  {
   "cell_type": "code",
   "execution_count": 48,
   "id": "ordered-spanish",
   "metadata": {},
   "outputs": [
    {
     "name": "stdout",
     "output_type": "stream",
     "text": [
      "['한국아이티', '259-2800', '259-2800', '259-2800', '학원', '학원']\n"
     ]
    }
   ],
   "source": [
    "lst_a.append(\"학원\"); print(lst_a)"
   ]
  },
  {
   "cell_type": "code",
   "execution_count": 49,
   "id": "lesser-formula",
   "metadata": {},
   "outputs": [
    {
     "name": "stdout",
     "output_type": "stream",
     "text": [
      "['259-2800', '259-2800', '259-2800', '학원', '학원', '한국아이티']\n"
     ]
    }
   ],
   "source": [
    "lst_a.sort(); print(lst_a)"
   ]
  },
  {
   "cell_type": "code",
   "execution_count": 51,
   "id": "metric-fluid",
   "metadata": {},
   "outputs": [
    {
     "name": "stdout",
     "output_type": "stream",
     "text": [
      "('이름', '학과', '학번', '주소')\n"
     ]
    }
   ],
   "source": [
    "# 튜플 생성\n",
    "t1 = (\"이름\", \"학과\", \"학번\", \"주소\")\n",
    "print(t1)"
   ]
  },
  {
   "cell_type": "code",
   "execution_count": 52,
   "id": "mobile-queens",
   "metadata": {},
   "outputs": [
    {
     "data": {
      "text/plain": [
       "tuple"
      ]
     },
     "execution_count": 52,
     "metadata": {},
     "output_type": "execute_result"
    }
   ],
   "source": [
    "type(t1)"
   ]
  },
  {
   "cell_type": "code",
   "execution_count": 57,
   "id": "alternate-diversity",
   "metadata": {},
   "outputs": [
    {
     "name": "stdout",
     "output_type": "stream",
     "text": [
      "('이름', '학과')\n",
      "('이름', '학번')\n"
     ]
    }
   ],
   "source": [
    "print(t1[0:2])\n",
    "print(t1[0:3:2])"
   ]
  },
  {
   "cell_type": "code",
   "execution_count": 59,
   "id": "wired-regression",
   "metadata": {},
   "outputs": [
    {
     "ename": "TypeError",
     "evalue": "'tuple' object does not support item assignment",
     "output_type": "error",
     "traceback": [
      "\u001b[1;31m---------------------------------------------------------------------------\u001b[0m",
      "\u001b[1;31mTypeError\u001b[0m                                 Traceback (most recent call last)",
      "\u001b[1;32m<ipython-input-59-866b1944012e>\u001b[0m in \u001b[0;36m<module>\u001b[1;34m\u001b[0m\n\u001b[1;32m----> 1\u001b[1;33m \u001b[0mt1\u001b[0m\u001b[1;33m[\u001b[0m\u001b[1;36m4\u001b[0m\u001b[1;33m]\u001b[0m \u001b[1;33m=\u001b[0m \u001b[1;34m\"전번\"\u001b[0m\u001b[1;33m\u001b[0m\u001b[1;33m\u001b[0m\u001b[0m\n\u001b[0m",
      "\u001b[1;31mTypeError\u001b[0m: 'tuple' object does not support item assignment"
     ]
    }
   ],
   "source": [
    "t1[4] = \"전번\""
   ]
  },
  {
   "cell_type": "code",
   "execution_count": 60,
   "id": "convertible-classics",
   "metadata": {},
   "outputs": [
    {
     "ename": "AttributeError",
     "evalue": "'tuple' object has no attribute 'append'",
     "output_type": "error",
     "traceback": [
      "\u001b[1;31m---------------------------------------------------------------------------\u001b[0m",
      "\u001b[1;31mAttributeError\u001b[0m                            Traceback (most recent call last)",
      "\u001b[1;32m<ipython-input-60-63687f45b33c>\u001b[0m in \u001b[0;36m<module>\u001b[1;34m\u001b[0m\n\u001b[1;32m----> 1\u001b[1;33m \u001b[0mt1\u001b[0m\u001b[1;33m.\u001b[0m\u001b[0mappend\u001b[0m\u001b[1;33m(\u001b[0m\u001b[1;34m\"전번\"\u001b[0m\u001b[1;33m)\u001b[0m\u001b[1;33m\u001b[0m\u001b[1;33m\u001b[0m\u001b[0m\n\u001b[0m",
      "\u001b[1;31mAttributeError\u001b[0m: 'tuple' object has no attribute 'append'"
     ]
    }
   ],
   "source": [
    "t1.append(\"전번\")"
   ]
  },
  {
   "cell_type": "code",
   "execution_count": 62,
   "id": "small-optimization",
   "metadata": {},
   "outputs": [
    {
     "name": "stdout",
     "output_type": "stream",
     "text": [
      "['이름', '학과', '학번', '주소']\n"
     ]
    }
   ],
   "source": [
    "lst1 = list(t1)\n",
    "print(lst1)"
   ]
  },
  {
   "cell_type": "code",
   "execution_count": 63,
   "id": "expensive-large",
   "metadata": {},
   "outputs": [
    {
     "name": "stdout",
     "output_type": "stream",
     "text": [
      "['이름', '학과', '학번', '주소', '전번']\n"
     ]
    }
   ],
   "source": [
    "lst1.append(\"전번\")\n",
    "print(lst1)"
   ]
  },
  {
   "cell_type": "code",
   "execution_count": 64,
   "id": "increased-drink",
   "metadata": {},
   "outputs": [
    {
     "name": "stdout",
     "output_type": "stream",
     "text": [
      "('이름', '학과', '학번', '주소', '전번')\n"
     ]
    }
   ],
   "source": [
    "t2 = tuple(lst1)\n",
    "print(t2)"
   ]
  },
  {
   "cell_type": "code",
   "execution_count": 77,
   "id": "robust-coating",
   "metadata": {},
   "outputs": [
    {
     "name": "stdout",
     "output_type": "stream",
     "text": [
      "{'name': '홍길동', 'phone': '010-1234-5678', 'addr': '청주시 상당구'}\n"
     ]
    }
   ],
   "source": [
    "dic3 = {'name':'홍길동', 'phone':'010-1234-5678', 'addr':'청주시 상당구'}\n",
    "print(dic3)"
   ]
  },
  {
   "cell_type": "code",
   "execution_count": 80,
   "id": "separate-wright",
   "metadata": {},
   "outputs": [
    {
     "name": "stdout",
     "output_type": "stream",
     "text": [
      "홍길동\n",
      "{'name': '홍길동', 'phone': '010-1234-5678', 'addr': '청주시 상당구'}\n"
     ]
    }
   ],
   "source": [
    "print(dic3['name'])\n",
    "print(dic3)"
   ]
  },
  {
   "cell_type": "code",
   "execution_count": 81,
   "id": "invisible-nevada",
   "metadata": {},
   "outputs": [
    {
     "name": "stdout",
     "output_type": "stream",
     "text": [
      "010-1234-5678\n",
      "{'name': '홍길동', 'phone': '010-1234-5678', 'addr': '청주시 상당구'}\n"
     ]
    }
   ],
   "source": [
    "print(dic3['phone'])\n",
    "print(dic3)"
   ]
  },
  {
   "cell_type": "code",
   "execution_count": 82,
   "id": "blank-pierce",
   "metadata": {},
   "outputs": [
    {
     "name": "stdout",
     "output_type": "stream",
     "text": [
      "{'name': '홍길동', 'phone': '010-1234-5678', 'addr': '청주시 상당구'}\n"
     ]
    }
   ],
   "source": [
    "dic4 = {'name':'홍길동', 'phone':'010-1234-5678', 'addr':'청주시 상당구'}\n",
    "print(dic4)"
   ]
  },
  {
   "cell_type": "code",
   "execution_count": 84,
   "id": "expensive-botswana",
   "metadata": {},
   "outputs": [
    {
     "name": "stdout",
     "output_type": "stream",
     "text": [
      "홍길동\n"
     ]
    }
   ],
   "source": [
    "print(dic4['name'])"
   ]
  },
  {
   "cell_type": "code",
   "execution_count": 87,
   "id": "insured-tiger",
   "metadata": {},
   "outputs": [
    {
     "name": "stdout",
     "output_type": "stream",
     "text": [
      "홍길동\n"
     ]
    }
   ],
   "source": [
    "print(dic4.get('name'))"
   ]
  },
  {
   "cell_type": "code",
   "execution_count": 88,
   "id": "recognized-fleece",
   "metadata": {},
   "outputs": [
    {
     "name": "stdout",
     "output_type": "stream",
     "text": [
      "dict_keys(['name', 'phone', 'addr'])\n"
     ]
    }
   ],
   "source": [
    "print(dic4.keys())"
   ]
  },
  {
   "cell_type": "code",
   "execution_count": 89,
   "id": "victorian-angel",
   "metadata": {},
   "outputs": [
    {
     "name": "stdout",
     "output_type": "stream",
     "text": [
      "dict_values(['홍길동', '010-1234-5678', '청주시 상당구'])\n"
     ]
    }
   ],
   "source": [
    "print(dic4.values())"
   ]
  },
  {
   "cell_type": "code",
   "execution_count": 91,
   "id": "vocal-victoria",
   "metadata": {},
   "outputs": [
    {
     "name": "stdout",
     "output_type": "stream",
     "text": [
      "dict_items([('name', '홍길동'), ('phone', '010-1234-5678'), ('addr', '청주시 상당구')])\n"
     ]
    }
   ],
   "source": [
    "print(dic4.items())"
   ]
  },
  {
   "cell_type": "code",
   "execution_count": 92,
   "id": "sound-bones",
   "metadata": {},
   "outputs": [
    {
     "name": "stdout",
     "output_type": "stream",
     "text": [
      "{}\n"
     ]
    }
   ],
   "source": [
    "dic1.clear()\n",
    "print(dic1)"
   ]
  },
  {
   "cell_type": "code",
   "execution_count": 94,
   "id": "median-grain",
   "metadata": {},
   "outputs": [
    {
     "name": "stdout",
     "output_type": "stream",
     "text": [
      "False\n"
     ]
    }
   ],
   "source": [
    "print('이름' in dic4)"
   ]
  },
  {
   "cell_type": "code",
   "execution_count": 95,
   "id": "matched-culture",
   "metadata": {},
   "outputs": [
    {
     "name": "stdout",
     "output_type": "stream",
     "text": [
      "{'name': '성춘향', 'phone': '010-1234-5678', 'addr': '청주시 상당구'}\n"
     ]
    }
   ],
   "source": [
    "dic4['name'] = '성춘향'\n",
    "print(dic4)"
   ]
  },
  {
   "cell_type": "code",
   "execution_count": 98,
   "id": "registered-mainland",
   "metadata": {},
   "outputs": [
    {
     "name": "stdout",
     "output_type": "stream",
     "text": [
      "{'name': '성춘향', 'phone': '010-1234-5678', 'addr': '청주시 상당구', 'birh': '2020.5.1'}\n"
     ]
    }
   ],
   "source": [
    "dic4['birh'] = '2020.5.1'\n",
    "print(dic4)"
   ]
  },
  {
   "cell_type": "code",
   "execution_count": 100,
   "id": "residential-heading",
   "metadata": {},
   "outputs": [
    {
     "name": "stdout",
     "output_type": "stream",
     "text": [
      "{'name': '성춘향', 'addr': '청주시 상당구', 'birh': '2020.5.1'}\n"
     ]
    }
   ],
   "source": [
    "dic4.pop('phone')\n",
    "print(dic4)"
   ]
  },
  {
   "cell_type": "code",
   "execution_count": 107,
   "id": "lined-dublin",
   "metadata": {},
   "outputs": [
    {
     "name": "stdout",
     "output_type": "stream",
     "text": [
      "{'a', 'n', 'i', 'o', 'r', 'e', 'l', 'd', 'k', 'h', 's', 'f'}\n",
      "{1, 2, 3}\n"
     ]
    }
   ],
   "source": [
    "s1 = set('hellokoreafreinds')\n",
    "print(s1)\n",
    "s2 = set([1,2,3])\n",
    "print(s2)"
   ]
  },
  {
   "cell_type": "code",
   "execution_count": 109,
   "id": "collect-shaft",
   "metadata": {},
   "outputs": [],
   "source": [
    "s1 = set([1,2,3,4,5,6])\n",
    "s2 = set([4,5,6,7,8,9])"
   ]
  },
  {
   "cell_type": "code",
   "execution_count": 111,
   "id": "ranking-adapter",
   "metadata": {},
   "outputs": [
    {
     "name": "stdout",
     "output_type": "stream",
     "text": [
      "{4, 5, 6}\n",
      "{1, 2, 3, 4, 5, 6, 7, 8, 9}\n",
      "{1, 2, 3}\n"
     ]
    }
   ],
   "source": [
    "print(s1 & s2)\n",
    "print(s1 | s2)\n",
    "print(s1 - s2)"
   ]
  },
  {
   "cell_type": "code",
   "execution_count": 115,
   "id": "dress-youth",
   "metadata": {},
   "outputs": [
    {
     "name": "stdout",
     "output_type": "stream",
     "text": [
      "{1, 2, 3, 4, 5}\n"
     ]
    }
   ],
   "source": [
    "s3 = {1,2,3}\n",
    "s3.update([4,5])\n",
    "print(s3)"
   ]
  },
  {
   "cell_type": "code",
   "execution_count": 118,
   "id": "republican-scanning",
   "metadata": {},
   "outputs": [
    {
     "ename": "KeyError",
     "evalue": "4",
     "output_type": "error",
     "traceback": [
      "\u001b[1;31m---------------------------------------------------------------------------\u001b[0m",
      "\u001b[1;31mKeyError\u001b[0m                                  Traceback (most recent call last)",
      "\u001b[1;32m<ipython-input-118-85330b470145>\u001b[0m in \u001b[0;36m<module>\u001b[1;34m\u001b[0m\n\u001b[1;32m----> 1\u001b[1;33m \u001b[0ms3\u001b[0m\u001b[1;33m.\u001b[0m\u001b[0mremove\u001b[0m\u001b[1;33m(\u001b[0m\u001b[1;36m4\u001b[0m\u001b[1;33m)\u001b[0m\u001b[1;33m\u001b[0m\u001b[1;33m\u001b[0m\u001b[0m\n\u001b[0m\u001b[0;32m      2\u001b[0m \u001b[0mprint\u001b[0m\u001b[1;33m(\u001b[0m\u001b[0ms3\u001b[0m\u001b[1;33m)\u001b[0m\u001b[1;33m\u001b[0m\u001b[1;33m\u001b[0m\u001b[0m\n",
      "\u001b[1;31mKeyError\u001b[0m: 4"
     ]
    }
   ],
   "source": [
    "s3.remove(4)\n",
    "print(s3)"
   ]
  },
  {
   "cell_type": "code",
   "execution_count": 119,
   "id": "nutritional-listing",
   "metadata": {},
   "outputs": [
    {
     "name": "stdout",
     "output_type": "stream",
     "text": [
      "{1, 2, 3, 5}\n"
     ]
    }
   ],
   "source": [
    "print(s3)"
   ]
  },
  {
   "cell_type": "code",
   "execution_count": 120,
   "id": "international-valve",
   "metadata": {},
   "outputs": [
    {
     "data": {
      "text/plain": [
       "1"
      ]
     },
     "execution_count": 120,
     "metadata": {},
     "output_type": "execute_result"
    }
   ],
   "source": [
    "a = [10, 20, 30]\n",
    "a.index(20)"
   ]
  },
  {
   "cell_type": "code",
   "execution_count": 122,
   "id": "phantom-constant",
   "metadata": {},
   "outputs": [
    {
     "name": "stdout",
     "output_type": "stream",
     "text": [
      "20\n"
     ]
    }
   ],
   "source": [
    "print(a[1])"
   ]
  },
  {
   "cell_type": "code",
   "execution_count": null,
   "id": "desperate-fusion",
   "metadata": {},
   "outputs": [],
   "source": []
  }
 ],
 "metadata": {
  "kernelspec": {
   "display_name": "Python 3",
   "language": "python",
   "name": "python3"
  },
  "language_info": {
   "codemirror_mode": {
    "name": "ipython",
    "version": 3
   },
   "file_extension": ".py",
   "mimetype": "text/x-python",
   "name": "python",
   "nbconvert_exporter": "python",
   "pygments_lexer": "ipython3",
   "version": "3.9.2"
  }
 },
 "nbformat": 4,
 "nbformat_minor": 5
}
