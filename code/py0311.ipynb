{
 "cells": [
  {
   "cell_type": "markdown",
   "id": "fifth-calvin",
   "metadata": {},
   "source": [
    "# 3일차 수업 : 들여쓰기, 변수, 입력함수, 출력함수 등"
   ]
  },
  {
   "cell_type": "code",
   "execution_count": 15,
   "id": "employed-transcript",
   "metadata": {},
   "outputs": [
    {
     "ename": "IndentationError",
     "evalue": "expected an indented block (<ipython-input-15-7a1a4ccfe657>, line 5)",
     "output_type": "error",
     "traceback": [
      "\u001b[1;36m  File \u001b[1;32m\"<ipython-input-15-7a1a4ccfe657>\"\u001b[1;36m, line \u001b[1;32m5\u001b[0m\n\u001b[1;33m    print(\"5는 10보다 크다\")\u001b[0m\n\u001b[1;37m    ^\u001b[0m\n\u001b[1;31mIndentationError\u001b[0m\u001b[1;31m:\u001b[0m expected an indented block\n"
     ]
    }
   ],
   "source": [
    "# 파이썬에서 들여쓰기는 문법사항\n",
    "# 필요한 곳에서 하지 않으면 오류발생\n",
    "\n",
    "if 5 > 10 :\n",
    "print(\"5는 10보다 크다\")\n",
    "\n"
   ]
  },
  {
   "cell_type": "markdown",
   "id": "aging-physiology",
   "metadata": {},
   "source": [
    "  - 들여쓰기는 '탭' 또는 '공백 띄어쓰기 4번'이 있으나 공백 4번 띄어쓰는 것을 권고"
   ]
  },
  {
   "cell_type": "code",
   "execution_count": 19,
   "id": "christian-abuse",
   "metadata": {},
   "outputs": [],
   "source": [
    "if 5 > 10 :\n",
    "    print(\"5는 10보다 크다\")  \n",
    "    print(\"***************\")\n",
    "    print(\"프로그램이 종료되었습니다.\")"
   ]
  },
  {
   "cell_type": "code",
   "execution_count": 17,
   "id": "instrumental-asset",
   "metadata": {},
   "outputs": [
    {
     "name": "stdout",
     "output_type": "stream",
     "text": [
      "5는 10보다 크다\n",
      "***************\n",
      "프로그램이 종료되었습니다.\n"
     ]
    }
   ],
   "source": [
    "if 5 < 10 :\n",
    "    print(\"5는 10보다 크다\")  \n",
    "    print(\"***************\")\n",
    "    print(\"프로그램이 종료되었습니다.\")"
   ]
  },
  {
   "cell_type": "markdown",
   "id": "patient-arlington",
   "metadata": {},
   "source": [
    "  - 같은 블록은 들여쓰기 칸 수가 같아야 하고, 공백과 탭 문자를 섞어쓰면 안됨"
   ]
  },
  {
   "cell_type": "code",
   "execution_count": 21,
   "id": "fatal-chess",
   "metadata": {},
   "outputs": [
    {
     "name": "stdout",
     "output_type": "stream",
     "text": [
      "100\n"
     ]
    }
   ],
   "source": [
    "A = 100\n",
    "print(A)"
   ]
  },
  {
   "cell_type": "markdown",
   "id": "understanding-resident",
   "metadata": {},
   "source": [
    "  - 변수 이름은 원하는 대로 지으면 되지만 다음과 같은 규칙을 지켜야 한다.  \n",
    "   * 영문 문자와 숫자를 사용할 수 있다.\n",
    "   * 대소문자를 구분한다.\n",
    "   * 문자부터 시작해야 하며 숫자부터 시작하면 안된다.\n",
    "   * '_'(밑줄 문자)로 시작할 수 있다.\n",
    "   * 특수 문자(+, -, *, /, $, @, &, % 등)는 사용할 수 없다.\n",
    "   * 파이썬의 키워드(if, for, while, and, or 등)는 사용할 수 없다."
   ]
  },
  {
   "cell_type": "code",
   "execution_count": 22,
   "id": "impaired-motorcycle",
   "metadata": {},
   "outputs": [
    {
     "name": "stdout",
     "output_type": "stream",
     "text": [
      "16\n"
     ]
    }
   ],
   "source": [
    "birthYear = 2005\n",
    "age = 2021 - birthYear\n",
    "print(age)"
   ]
  },
  {
   "cell_type": "markdown",
   "id": "nutritional-climate",
   "metadata": {},
   "source": [
    "  - 타입 : 숫자(정수형, 실수형), 문자(열), Boolean\n",
    "  - 다른 언어의 경우에는 변수의 값에 따라 타입이 나누어지지만 파이썬은 사용하는 함수에 따라 타입이 달라짐\n",
    "  (데이터 모양에 따라 바뀌는 것임)"
   ]
  },
  {
   "cell_type": "code",
   "execution_count": 59,
   "id": "popular-honolulu",
   "metadata": {},
   "outputs": [],
   "source": [
    "numberInt = 100 # 정수형 타입\n",
    "numberFloat = 1.234 # 실수형\n",
    "varChar = 'A' # 문자열\n",
    "varStr = 'Korea' # 문자열\n",
    "valBool = True # Boolean"
   ]
  },
  {
   "cell_type": "code",
   "execution_count": 60,
   "id": "surgical-spring",
   "metadata": {},
   "outputs": [
    {
     "data": {
      "text/plain": [
       "int"
      ]
     },
     "execution_count": 60,
     "metadata": {},
     "output_type": "execute_result"
    }
   ],
   "source": [
    "# 파이썬에는 type()함수가 있어서 data type를 확인할 수 있음\n",
    "type(numberInt)"
   ]
  },
  {
   "cell_type": "code",
   "execution_count": 49,
   "id": "artificial-capitol",
   "metadata": {},
   "outputs": [
    {
     "data": {
      "text/plain": [
       "float"
      ]
     },
     "execution_count": 49,
     "metadata": {},
     "output_type": "execute_result"
    }
   ],
   "source": [
    "type(numberFloat)"
   ]
  },
  {
   "cell_type": "code",
   "execution_count": 50,
   "id": "realistic-nylon",
   "metadata": {},
   "outputs": [
    {
     "data": {
      "text/plain": [
       "str"
      ]
     },
     "execution_count": 50,
     "metadata": {},
     "output_type": "execute_result"
    }
   ],
   "source": [
    "type(varChar)"
   ]
  },
  {
   "cell_type": "code",
   "execution_count": 51,
   "id": "recognized-burst",
   "metadata": {},
   "outputs": [
    {
     "data": {
      "text/plain": [
       "str"
      ]
     },
     "execution_count": 51,
     "metadata": {},
     "output_type": "execute_result"
    }
   ],
   "source": [
    "type(varStr)"
   ]
  },
  {
   "cell_type": "code",
   "execution_count": 52,
   "id": "assumed-latin",
   "metadata": {},
   "outputs": [
    {
     "data": {
      "text/plain": [
       "bool"
      ]
     },
     "execution_count": 52,
     "metadata": {},
     "output_type": "execute_result"
    }
   ],
   "source": [
    "type(valBool)"
   ]
  },
  {
   "cell_type": "code",
   "execution_count": 61,
   "id": "incident-daughter",
   "metadata": {},
   "outputs": [
    {
     "name": "stdout",
     "output_type": "stream",
     "text": [
      "<class 'int'>\n",
      "True\n"
     ]
    }
   ],
   "source": [
    "print(type(numberInt))\n",
    "print(isinstance(numberInt, int))"
   ]
  },
  {
   "cell_type": "code",
   "execution_count": 66,
   "id": "independent-removal",
   "metadata": {},
   "outputs": [
    {
     "name": "stdout",
     "output_type": "stream",
     "text": [
      "태어난 해를 입력하세요 : 2005\n"
     ]
    },
    {
     "ename": "TypeError",
     "evalue": "unsupported operand type(s) for -: 'int' and 'str'",
     "output_type": "error",
     "traceback": [
      "\u001b[1;31m---------------------------------------------------------------------------\u001b[0m",
      "\u001b[1;31mTypeError\u001b[0m                                 Traceback (most recent call last)",
      "\u001b[1;32m<ipython-input-66-cc395197e443>\u001b[0m in \u001b[0;36m<module>\u001b[1;34m\u001b[0m\n\u001b[0;32m      1\u001b[0m \u001b[1;31m# 입력함수 input()\u001b[0m\u001b[1;33m\u001b[0m\u001b[1;33m\u001b[0m\u001b[1;33m\u001b[0m\u001b[0m\n\u001b[0;32m      2\u001b[0m \u001b[0mbirthYear\u001b[0m \u001b[1;33m=\u001b[0m \u001b[0minput\u001b[0m\u001b[1;33m(\u001b[0m\u001b[1;34m\"태어난 해를 입력하세요 : \"\u001b[0m\u001b[1;33m)\u001b[0m\u001b[1;33m\u001b[0m\u001b[1;33m\u001b[0m\u001b[0m\n\u001b[1;32m----> 3\u001b[1;33m \u001b[0mage\u001b[0m \u001b[1;33m=\u001b[0m \u001b[1;36m2021\u001b[0m \u001b[1;33m-\u001b[0m \u001b[0mbirthYear\u001b[0m\u001b[1;33m\u001b[0m\u001b[1;33m\u001b[0m\u001b[0m\n\u001b[0m\u001b[0;32m      4\u001b[0m \u001b[0mprint\u001b[0m\u001b[1;33m(\u001b[0m\u001b[0mage\u001b[0m\u001b[1;33m)\u001b[0m\u001b[1;33m\u001b[0m\u001b[1;33m\u001b[0m\u001b[0m\n",
      "\u001b[1;31mTypeError\u001b[0m: unsupported operand type(s) for -: 'int' and 'str'"
     ]
    }
   ],
   "source": [
    "# 입력함수 input()\n",
    "birthYear = input(\"태어난 해를 입력하세요 : \")\n",
    "age = 2021 - birthYear\n",
    "print(age)"
   ]
  },
  {
   "cell_type": "code",
   "execution_count": 69,
   "id": "entertaining-contrary",
   "metadata": {},
   "outputs": [
    {
     "name": "stdout",
     "output_type": "stream",
     "text": [
      "태어난 해를 입력하세요 : 2005\n"
     ]
    },
    {
     "data": {
      "text/plain": [
       "str"
      ]
     },
     "execution_count": 69,
     "metadata": {},
     "output_type": "execute_result"
    }
   ],
   "source": [
    "# 입력함수 input()\n",
    "birthYear = input(\"태어난 해를 입력하세요 : \")\n",
    "type(birthYear)\n",
    "#age = 2021 - birthYear\n",
    "#print(age)"
   ]
  },
  {
   "cell_type": "code",
   "execution_count": 73,
   "id": "welcome-milan",
   "metadata": {},
   "outputs": [
    {
     "name": "stdout",
     "output_type": "stream",
     "text": [
      "태어난 해를 입력하세요 : 2005\n"
     ]
    },
    {
     "data": {
      "text/plain": [
       "int"
      ]
     },
     "execution_count": 73,
     "metadata": {},
     "output_type": "execute_result"
    }
   ],
   "source": [
    "# 입력함수 input()\n",
    "birthYear = int(input(\"태어난 해를 입력하세요 : \")) # str타입을 int 타입으로 바꾸기\n",
    "type(birthYear)\n"
   ]
  },
  {
   "cell_type": "code",
   "execution_count": 72,
   "id": "southern-wednesday",
   "metadata": {},
   "outputs": [
    {
     "name": "stdout",
     "output_type": "stream",
     "text": [
      "태어난 해를 입력하세요 : 2005\n",
      "16\n"
     ]
    }
   ],
   "source": [
    "# 입력함수 input()\n",
    "birthYear = int(input(\"태어난 해를 입력하세요 : \")) # str타입을 int 타입으로 바꾸기\n",
    "\n",
    "age = 2021 - birthYear\n",
    "print(age)"
   ]
  },
  {
   "cell_type": "code",
   "execution_count": 75,
   "id": "fiscal-nothing",
   "metadata": {},
   "outputs": [
    {
     "name": "stdout",
     "output_type": "stream",
     "text": [
      "koreaIT\n"
     ]
    }
   ],
   "source": [
    "print(\"korea\"+\"IT\")"
   ]
  },
  {
   "cell_type": "code",
   "execution_count": 84,
   "id": "requested-concord",
   "metadata": {},
   "outputs": [
    {
     "ename": "TypeError",
     "evalue": "can only concatenate str (not \"int\") to str",
     "output_type": "error",
     "traceback": [
      "\u001b[1;31m---------------------------------------------------------------------------\u001b[0m",
      "\u001b[1;31mTypeError\u001b[0m                                 Traceback (most recent call last)",
      "\u001b[1;32m<ipython-input-84-b3f66e936dfc>\u001b[0m in \u001b[0;36m<module>\u001b[1;34m\u001b[0m\n\u001b[1;32m----> 1\u001b[1;33m \u001b[0mprint\u001b[0m\u001b[1;33m(\u001b[0m\u001b[1;34m\"age\"\u001b[0m\u001b[1;33m+\u001b[0m\u001b[1;36m10\u001b[0m\u001b[1;33m)\u001b[0m\u001b[1;33m\u001b[0m\u001b[1;33m\u001b[0m\u001b[0m\n\u001b[0m",
      "\u001b[1;31mTypeError\u001b[0m: can only concatenate str (not \"int\") to str"
     ]
    }
   ],
   "source": [
    "print(\"age\"+10)"
   ]
  },
  {
   "cell_type": "code",
   "execution_count": 85,
   "id": "fiscal-helmet",
   "metadata": {},
   "outputs": [
    {
     "name": "stdout",
     "output_type": "stream",
     "text": [
      "age : 10\n"
     ]
    }
   ],
   "source": [
    "print(\"age :\", 10)"
   ]
  },
  {
   "cell_type": "code",
   "execution_count": 86,
   "id": "linear-finance",
   "metadata": {},
   "outputs": [
    {
     "name": "stdout",
     "output_type": "stream",
     "text": [
      "age :\n",
      "10\n"
     ]
    }
   ],
   "source": [
    "print(\"age :\")\n",
    "print(10)"
   ]
  },
  {
   "cell_type": "code",
   "execution_count": 88,
   "id": "criminal-bubble",
   "metadata": {},
   "outputs": [
    {
     "name": "stdout",
     "output_type": "stream",
     "text": [
      "age6\n"
     ]
    }
   ],
   "source": [
    "print(\"age\"+\"6\")"
   ]
  },
  {
   "cell_type": "code",
   "execution_count": 93,
   "id": "still-necklace",
   "metadata": {},
   "outputs": [
    {
     "name": "stdout",
     "output_type": "stream",
     "text": [
      "KoreaKoreaKorea\n"
     ]
    }
   ],
   "source": [
    "print(\"Korea\"*3)"
   ]
  },
  {
   "cell_type": "code",
   "execution_count": 98,
   "id": "german-point",
   "metadata": {},
   "outputs": [
    {
     "name": "stdout",
     "output_type": "stream",
     "text": [
      "10\n"
     ]
    }
   ],
   "source": [
    "print(\"%d\"%10)"
   ]
  },
  {
   "cell_type": "code",
   "execution_count": 99,
   "id": "pediatric-weight",
   "metadata": {},
   "outputs": [
    {
     "name": "stdout",
     "output_type": "stream",
     "text": [
      "age : 10세\n"
     ]
    }
   ],
   "source": [
    "print(\"age : %d세\"%10)"
   ]
  },
  {
   "cell_type": "code",
   "execution_count": 106,
   "id": "abstract-complement",
   "metadata": {},
   "outputs": [
    {
     "name": "stdout",
     "output_type": "stream",
     "text": [
      "age : 10 세\n",
      "age : 10세\n"
     ]
    }
   ],
   "source": [
    "print(\"age :\", 10, \"세\")\n",
    "print(\"age : %d세\"%10)"
   ]
  },
  {
   "cell_type": "code",
   "execution_count": 109,
   "id": "activated-plate",
   "metadata": {},
   "outputs": [
    {
     "name": "stdout",
     "output_type": "stream",
     "text": [
      "age : 10세\n",
      "age : 10세\n"
     ]
    }
   ],
   "source": [
    "print(\"age : \", 10, \"세\", sep=\"\")\n",
    "print(\"age : %d세\"%10)"
   ]
  },
  {
   "cell_type": "code",
   "execution_count": 110,
   "id": "distinct-replica",
   "metadata": {},
   "outputs": [
    {
     "name": "stdout",
     "output_type": "stream",
     "text": [
      "age : 10세age : 10세\n"
     ]
    }
   ],
   "source": [
    "print(\"age : \", 10, \"세\", sep=\"\", end=\"\")\n",
    "print(\"age : %d세\"%10)"
   ]
  },
  {
   "cell_type": "code",
   "execution_count": 112,
   "id": "fleet-disability",
   "metadata": {},
   "outputs": [
    {
     "name": "stdout",
     "output_type": "stream",
     "text": [
      "age : 10세\tage : 10세\n"
     ]
    }
   ],
   "source": [
    "print(\"age : \", 10, \"세\", sep=\"\", end=\"\\t\")\n",
    "print(\"age : %d세\"%10)"
   ]
  },
  {
   "cell_type": "code",
   "execution_count": 115,
   "id": "authentic-aggregate",
   "metadata": {},
   "outputs": [
    {
     "name": "stdout",
     "output_type": "stream",
     "text": [
      "age : 10세/age : 10세\n"
     ]
    }
   ],
   "source": [
    "print(\"age : \", 10, \"세\", sep=\"\", end=\"/\")\n",
    "print(\"age : %d세\"%10)"
   ]
  },
  {
   "cell_type": "code",
   "execution_count": 138,
   "id": "employed-works",
   "metadata": {},
   "outputs": [
    {
     "name": "stdout",
     "output_type": "stream",
     "text": [
      "10 3.140000 korea\n"
     ]
    }
   ],
   "source": [
    "print(\"%d %f %s\"%(10, 3.14, \"korea\"))"
   ]
  },
  {
   "cell_type": "code",
   "execution_count": 136,
   "id": "physical-president",
   "metadata": {},
   "outputs": [
    {
     "name": "stdout",
     "output_type": "stream",
     "text": [
      "0000000010 3.14000 korea\n"
     ]
    }
   ],
   "source": [
    "print(\"%010d %4.5f %s\"%(10, 3.14, \"korea\"))"
   ]
  },
  {
   "cell_type": "code",
   "execution_count": 140,
   "id": "changing-bandwidth",
   "metadata": {},
   "outputs": [
    {
     "name": "stdout",
     "output_type": "stream",
     "text": [
      "False\n"
     ]
    }
   ],
   "source": [
    "print(not(10<20))"
   ]
  },
  {
   "cell_type": "code",
   "execution_count": 141,
   "id": "cathedral-calvin",
   "metadata": {},
   "outputs": [
    {
     "name": "stdout",
     "output_type": "stream",
     "text": [
      "0b101\n"
     ]
    }
   ],
   "source": [
    "# 진법\n",
    "print(bin(5))"
   ]
  },
  {
   "cell_type": "code",
   "execution_count": 143,
   "id": "promising-snake",
   "metadata": {},
   "outputs": [
    {
     "name": "stdout",
     "output_type": "stream",
     "text": [
      "0o15\n"
     ]
    }
   ],
   "source": [
    "print(oct(13))"
   ]
  },
  {
   "cell_type": "code",
   "execution_count": 145,
   "id": "strange-clearing",
   "metadata": {},
   "outputs": [
    {
     "name": "stdout",
     "output_type": "stream",
     "text": [
      "0x17\n"
     ]
    }
   ],
   "source": [
    "print(hex(23))"
   ]
  }
 ],
 "metadata": {
  "kernelspec": {
   "display_name": "Python 3",
   "language": "python",
   "name": "python3"
  },
  "language_info": {
   "codemirror_mode": {
    "name": "ipython",
    "version": 3
   },
   "file_extension": ".py",
   "mimetype": "text/x-python",
   "name": "python",
   "nbconvert_exporter": "python",
   "pygments_lexer": "ipython3",
   "version": "3.9.2"
  }
 },
 "nbformat": 4,
 "nbformat_minor": 5
}
