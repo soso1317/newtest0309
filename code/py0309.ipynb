{
 "cells": [
  {
   "cell_type": "markdown",
   "id": "brave-pennsylvania",
   "metadata": {},
   "source": [
    "# 2일차 수업 : 파이썬의 기본문법"
   ]
  },
  {
   "cell_type": "markdown",
   "id": "understanding-unemployment",
   "metadata": {},
   "source": [
    "### Jupyter Notebook 사용법\n",
    "* 셀의 개념 :  \n",
    "  - Code 와 Markdown 모드의 변경 : ESC(명령모드 상태에서) 'm'을 누르면 Markdown, \n",
    "  - 'y'를 누르면 Code상태로 토글된다    \n",
    "* 셀의 실행 : Ctrl + Enter 실행만  \n",
    "  - Shift + Enter 실행 후 아래셀로 이동(없으면 새로 만들고 이동하고 있으면 이동)  \n",
    "  - Alt + Enter 실행 후 무조건 아래셀로 이동  \n",
    "* 셀의 추가 : 기준 셀 위에 생성 'a', 기준 셀 아래 생성 'b'  \n",
    "* 기타 내용  \n",
    "  - 셀 삭제 : dd\n",
    "  - 줄 변경 : 문장 뒤에 띄어쓰기 두번"
   ]
  },
  {
   "cell_type": "markdown",
   "id": "subsequent-begin",
   "metadata": {},
   "source": [
    "# 제목 1\n",
    "## 제목 2\n",
    "### 제목 3\n",
    "#### 제목 4\n",
    "##### 제목 5\n",
    "###### 제목 6"
   ]
  },
  {
   "cell_type": "markdown",
   "id": "qualified-attention",
   "metadata": {},
   "source": [
    "# 1. print() 함수의 활용\n",
    "파이썬에서 출력을 위해서는 print()함수를 사용한다  \n",
    "```python\n",
    "print(\"문자열\")\n",
    "print(수식)\n",
    "print(숫자값)\n",
    "```\n"
   ]
  },
  {
   "cell_type": "code",
   "execution_count": 1,
   "id": "bridal-listening",
   "metadata": {},
   "outputs": [
    {
     "name": "stdout",
     "output_type": "stream",
     "text": [
      "Hello\n",
      "Python\n"
     ]
    }
   ],
   "source": [
    "print(\"Hello\")\n",
    "print('Python')"
   ]
  },
  {
   "cell_type": "markdown",
   "id": "criminal-budapest",
   "metadata": {},
   "source": [
    "## 2. 파이썬의 주석  \n",
    "파이썬의 주석은 행단위의 주석과 블럭단위의 주석이 있다  \n",
    "- 행단위의 주석\n",
    "```python\n",
    "# 이 코드는 행 단위의 주석을 설명합니다\n",
    "print(\"Hello Phthon\") # 주석입니다\n",
    "#print(Hello Python\")\n",
    "```\n",
    "행의 맨 앞에 #를 붙으면 그 행 전체는 주석으로 처리하여 실행하지 않는다.  \n",
    "코드의 중간에서 # 기호를 넢으면 그 뒤는 주석으로 처리한다.  \n",
    "\n",
    "- 블록단위 주석\n",
    "```python\n",
    "  # 주석 1\n",
    "  # 주석 2\n",
    "  # 주석 3\n",
    "print(\"Hello\")\n",
    "```"
   ]
  },
  {
   "cell_type": "code",
   "execution_count": 3,
   "id": "stone-assault",
   "metadata": {},
   "outputs": [
    {
     "name": "stdout",
     "output_type": "stream",
     "text": [
      "Hello Phthon\n"
     ]
    }
   ],
   "source": [
    "# 이 코드는 행 단위의 주석을 설명합니다\n",
    "print(\"Hello Phthon\") # 주석입니다\n",
    "#print(Hello Python\")"
   ]
  },
  {
   "cell_type": "code",
   "execution_count": 4,
   "id": "hollow-cricket",
   "metadata": {},
   "outputs": [
    {
     "name": "stdout",
     "output_type": "stream",
     "text": [
      "Hello\n"
     ]
    }
   ],
   "source": [
    "  # 주석 1\n",
    "  # 주석 2\n",
    "  # 주석 3\n",
    "print(\"Hello\")"
   ]
  },
  {
   "cell_type": "code",
   "execution_count": null,
   "id": "outside-iceland",
   "metadata": {},
   "outputs": [],
   "source": []
  }
 ],
 "metadata": {
  "kernelspec": {
   "display_name": "Python 3",
   "language": "python",
   "name": "python3"
  },
  "language_info": {
   "codemirror_mode": {
    "name": "ipython",
    "version": 3
   },
   "file_extension": ".py",
   "mimetype": "text/x-python",
   "name": "python",
   "nbconvert_exporter": "python",
   "pygments_lexer": "ipython3",
   "version": "3.9.2"
  }
 },
 "nbformat": 4,
 "nbformat_minor": 5
}
