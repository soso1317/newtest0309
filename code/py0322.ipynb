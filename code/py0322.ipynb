{
 "cells": [
  {
   "cell_type": "markdown",
   "id": "objective-gospel",
   "metadata": {},
   "source": [
    "# Day07 : 클래스, 내장 함수 등"
   ]
  },
  {
   "cell_type": "code",
   "execution_count": 19,
   "id": "charming-contrast",
   "metadata": {},
   "outputs": [
    {
     "name": "stdout",
     "output_type": "stream",
     "text": [
      "홍길동 Hello\n",
      "홍길동 19\n",
      "김유신 Hello\n",
      "김유신 35\n"
     ]
    }
   ],
   "source": [
    "# define class \n",
    "class Person: # 클래스 이름\n",
    "    def __init__(self):\n",
    "        self.name = \" \"\n",
    "        self.age = 0\n",
    "    \n",
    "    def greeting(self): #self는 특수한 경우로 자기 자신을 의미함, 개체 자체\n",
    "        print(self.name, 'Hello')\n",
    "        \n",
    "    def showInfo(self):\n",
    "        print(self.name, self.age)\n",
    "\n",
    "hong = Person() # 객체변수 = 클래스생성자() #인스턴스화 \n",
    "hong.name = \"홍길동\"\n",
    "hong.age = 19\n",
    "hong.greeting()\n",
    "hong.showInfo()\n",
    "\n",
    "kim = Person()\n",
    "kim.name = \"김유신\"\n",
    "kim.age = 35\n",
    "kim.greeting()\n",
    "kim.showInfo()"
   ]
  },
  {
   "cell_type": "code",
   "execution_count": 54,
   "id": "minimal-glory",
   "metadata": {},
   "outputs": [],
   "source": [
    "class Car:\n",
    "    def __init__(self):\n",
    "        self.color = \" \"\n",
    "        self.speed = 0\n",
    "    \n",
    "    def upSpeed(self, number):\n",
    "        self.speed += number\n",
    "    def downSpeed(self, number):\n",
    "        self.speed -= number\n",
    "    def showInfo(self):\n",
    "        print(self.color, self.speed)"
   ]
  },
  {
   "cell_type": "code",
   "execution_count": 55,
   "id": "beneficial-tradition",
   "metadata": {},
   "outputs": [],
   "source": [
    "redCar = Car()"
   ]
  },
  {
   "cell_type": "code",
   "execution_count": 56,
   "id": "trained-specific",
   "metadata": {},
   "outputs": [],
   "source": [
    "redCar.color = \"red\""
   ]
  },
  {
   "cell_type": "code",
   "execution_count": 57,
   "id": "annoying-corporation",
   "metadata": {},
   "outputs": [
    {
     "name": "stdout",
     "output_type": "stream",
     "text": [
      "red 0\n"
     ]
    }
   ],
   "source": [
    "redCar.showInfo()"
   ]
  },
  {
   "cell_type": "code",
   "execution_count": 58,
   "id": "tutorial-approval",
   "metadata": {},
   "outputs": [],
   "source": [
    "redCar.upSpeed(100)"
   ]
  },
  {
   "cell_type": "code",
   "execution_count": 59,
   "id": "verbal-lying",
   "metadata": {},
   "outputs": [
    {
     "name": "stdout",
     "output_type": "stream",
     "text": [
      "red 100\n"
     ]
    }
   ],
   "source": [
    "redCar.showInfo()"
   ]
  },
  {
   "cell_type": "code",
   "execution_count": 60,
   "id": "pointed-information",
   "metadata": {},
   "outputs": [
    {
     "name": "stdout",
     "output_type": "stream",
     "text": [
      "red 150\n"
     ]
    }
   ],
   "source": [
    "redCar.upSpeed(50)\n",
    "redCar.showInfo()"
   ]
  },
  {
   "cell_type": "code",
   "execution_count": 61,
   "id": "foreign-onion",
   "metadata": {},
   "outputs": [
    {
     "name": "stdout",
     "output_type": "stream",
     "text": [
      "red 30\n"
     ]
    }
   ],
   "source": [
    "redCar.downSpeed(120)\n",
    "redCar.showInfo()"
   ]
  },
  {
   "cell_type": "code",
   "execution_count": 62,
   "id": "dimensional-earthquake",
   "metadata": {},
   "outputs": [
    {
     "ename": "NameError",
     "evalue": "name 'mycar' is not defined",
     "output_type": "error",
     "traceback": [
      "\u001b[1;31m---------------------------------------------------------------------------\u001b[0m",
      "\u001b[1;31mNameError\u001b[0m                                 Traceback (most recent call last)",
      "\u001b[1;32m<ipython-input-62-7b3e1b362521>\u001b[0m in \u001b[0;36m<module>\u001b[1;34m\u001b[0m\n\u001b[0;32m      2\u001b[0m \u001b[0mmyCar\u001b[0m\u001b[1;33m.\u001b[0m\u001b[0mColor\u001b[0m \u001b[1;33m=\u001b[0m \u001b[1;34m\"검정\"\u001b[0m\u001b[1;33m\u001b[0m\u001b[1;33m\u001b[0m\u001b[0m\n\u001b[0;32m      3\u001b[0m \u001b[0mmyCar\u001b[0m\u001b[1;33m.\u001b[0m\u001b[0mupSpeed\u001b[0m\u001b[1;33m(\u001b[0m\u001b[1;36m130\u001b[0m\u001b[1;33m)\u001b[0m\u001b[1;33m\u001b[0m\u001b[1;33m\u001b[0m\u001b[0m\n\u001b[1;32m----> 4\u001b[1;33m \u001b[0mmycar\u001b[0m\u001b[1;33m.\u001b[0m\u001b[0mshowInfo\u001b[0m\u001b[1;33m(\u001b[0m\u001b[1;33m)\u001b[0m\u001b[1;33m\u001b[0m\u001b[1;33m\u001b[0m\u001b[0m\n\u001b[0m",
      "\u001b[1;31mNameError\u001b[0m: name 'mycar' is not defined"
     ]
    }
   ],
   "source": [
    "myCar = Car()\n",
    "myCar.Color = \"검정\"\n",
    "myCar.upSpeed(130)\n",
    "mycar.showInfo()"
   ]
  },
  {
   "cell_type": "code",
   "execution_count": 67,
   "id": "delayed-package",
   "metadata": {},
   "outputs": [],
   "source": [
    "class Person:\n",
    "    def __init__(self, name, age, address, wallet):\n",
    "        self.name = name\n",
    "        self.age = age\n",
    "        self.address = address\n",
    "        self.__wallet = wallet\n",
    "    def updateWallet(self, money):\n",
    "        self.__wallet += money\n",
    "    def showWallet(self):\n",
    "        print(self.__wallet)\n",
    "        \n",
    "hong = Person(\"홍길동\", 19, \"청주시 상당구\", 10000)"
   ]
  },
  {
   "cell_type": "code",
   "execution_count": 68,
   "id": "comparable-russian",
   "metadata": {},
   "outputs": [],
   "source": [
    "hong.updateWallet(-500)"
   ]
  },
  {
   "cell_type": "code",
   "execution_count": 70,
   "id": "molecular-princess",
   "metadata": {},
   "outputs": [
    {
     "name": "stdout",
     "output_type": "stream",
     "text": [
      "9500\n"
     ]
    }
   ],
   "source": [
    "hong.showWallet()"
   ]
  },
  {
   "cell_type": "code",
   "execution_count": 71,
   "id": "sapphire-mystery",
   "metadata": {},
   "outputs": [
    {
     "name": "stdout",
     "output_type": "stream",
     "text": [
      "['책', '열쇠']\n",
      "['책', '열쇠']\n"
     ]
    }
   ],
   "source": [
    "class Person:\n",
    "    bag = [] # 공백 리스트 타입의 클래스 변수\n",
    "    \n",
    "    def put_bag(self, item):\n",
    "        self.bag.append(item)\n",
    "    \n",
    "james = Person()\n",
    "james.put_bag('책')\n",
    "\n",
    "maria = Person()\n",
    "maria.put_bag('열쇠')\n",
    "\n",
    "print(james.bag)\n",
    "print(maria.bag)\n",
    "        "
   ]
  },
  {
   "cell_type": "code",
   "execution_count": 74,
   "id": "ecological-victoria",
   "metadata": {},
   "outputs": [
    {
     "ename": "SyntaxError",
     "evalue": "invalid syntax (<ipython-input-74-a2d0453232e3>, line 2)",
     "output_type": "error",
     "traceback": [
      "\u001b[1;36m  File \u001b[1;32m\"<ipython-input-74-a2d0453232e3>\"\u001b[1;36m, line \u001b[1;32m2\u001b[0m\n\u001b[1;33m    def __init__(self)\u001b[0m\n\u001b[1;37m                      ^\u001b[0m\n\u001b[1;31mSyntaxError\u001b[0m\u001b[1;31m:\u001b[0m invalid syntax\n"
     ]
    }
   ],
   "source": [
    "class Person:\n",
    "    def __init__(self)\n",
    "        self.bag = [] # 인스턴스 속성\n",
    "    \n",
    "    def put_bag(self, item):\n",
    "        self.bag.append(item)\n",
    "    \n",
    "james = Person()\n",
    "james.put_bag('책')\n",
    "\n",
    "maria = Person()\n",
    "maria.put_bag('열쇠')\n",
    "\n",
    "print(james.bag)\n",
    "print(maria.bag)"
   ]
  },
  {
   "cell_type": "code",
   "execution_count": 81,
   "id": "excess-kernel",
   "metadata": {},
   "outputs": [],
   "source": [
    "class Calc :\n",
    "    @staticmethod\n",
    "    def add(a,b):\n",
    "        print(a+b)\n",
    "    @staticmethod\n",
    "    def mul(a,b):\n",
    "        print(a*b)\n",
    "    \n",
    "myCalc = Calc()"
   ]
  },
  {
   "cell_type": "code",
   "execution_count": 82,
   "id": "informative-breakfast",
   "metadata": {},
   "outputs": [
    {
     "name": "stdout",
     "output_type": "stream",
     "text": [
      "3\n"
     ]
    }
   ],
   "source": [
    "Calc.add(1,2)"
   ]
  },
  {
   "cell_type": "code",
   "execution_count": 83,
   "id": "modular-january",
   "metadata": {},
   "outputs": [],
   "source": [
    "class Person:\n",
    "    count = 0 # 클래스 속성\n",
    "    \n",
    "    def __init__(self):\n",
    "        Person.count+= 1\n",
    "    @classmethod\n",
    "    def print_count(cls):\n",
    "        print(\"{0}명 생성되었습니다\". format(cls.count))"
   ]
  },
  {
   "cell_type": "code",
   "execution_count": 85,
   "id": "honest-secret",
   "metadata": {},
   "outputs": [],
   "source": [
    "james = Person()"
   ]
  },
  {
   "cell_type": "code",
   "execution_count": 89,
   "id": "surgical-rachel",
   "metadata": {},
   "outputs": [
    {
     "name": "stdout",
     "output_type": "stream",
     "text": [
      "1명 생성되었습니다\n"
     ]
    }
   ],
   "source": [
    "Person.print_count()"
   ]
  },
  {
   "cell_type": "code",
   "execution_count": null,
   "id": "plastic-indie",
   "metadata": {},
   "outputs": [],
   "source": []
  }
 ],
 "metadata": {
  "kernelspec": {
   "display_name": "Python 3",
   "language": "python",
   "name": "python3"
  },
  "language_info": {
   "codemirror_mode": {
    "name": "ipython",
    "version": 3
   },
   "file_extension": ".py",
   "mimetype": "text/x-python",
   "name": "python",
   "nbconvert_exporter": "python",
   "pygments_lexer": "ipython3",
   "version": "3.9.2"
  }
 },
 "nbformat": 4,
 "nbformat_minor": 5
}
