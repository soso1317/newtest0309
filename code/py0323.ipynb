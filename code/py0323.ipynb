{
 "cells": [
  {
   "cell_type": "code",
   "execution_count": 3,
   "id": "prescribed-medium",
   "metadata": {},
   "outputs": [],
   "source": [
    "# class 복습 (3.22)\n",
    "\n",
    "class Person:\n",
    "    count = 10\n",
    "    def __init__(self):\n",
    "        self.name = \"\"\n",
    "        self.age = 0\n",
    "        \n",
    "    def showInfo(self):\n",
    "        print(self.name, self.age)"
   ]
  },
  {
   "cell_type": "code",
   "execution_count": 4,
   "id": "needed-planner",
   "metadata": {},
   "outputs": [],
   "source": [
    "hong = Person()"
   ]
  },
  {
   "cell_type": "code",
   "execution_count": 17,
   "id": "french-mistake",
   "metadata": {},
   "outputs": [],
   "source": [
    "hong.name = \"홍길동\"\n",
    "hong.age = 19"
   ]
  },
  {
   "cell_type": "code",
   "execution_count": 16,
   "id": "electoral-therapy",
   "metadata": {},
   "outputs": [
    {
     "name": "stdout",
     "output_type": "stream",
     "text": [
      "홍길동 19\n"
     ]
    }
   ],
   "source": [
    "hong.showInfo()"
   ]
  },
  {
   "cell_type": "code",
   "execution_count": 13,
   "id": "distributed-practice",
   "metadata": {},
   "outputs": [],
   "source": [
    "# class 복습\n",
    "\n",
    "class Person:\n",
    "    count = 10\n",
    "    def __init__(self, name, age):\n",
    "        self.name = name\n",
    "        self.age = age\n",
    "        \n",
    "    def showInfo(self):\n",
    "        print(self.name, self.age)"
   ]
  },
  {
   "cell_type": "code",
   "execution_count": 14,
   "id": "invisible-inspiration",
   "metadata": {},
   "outputs": [],
   "source": [
    "hong = Person(\"홍길동\", 19)"
   ]
  },
  {
   "cell_type": "markdown",
   "id": "touched-tutorial",
   "metadata": {},
   "source": [
    "# Day08 클래스 속성"
   ]
  },
  {
   "cell_type": "code",
   "execution_count": 18,
   "id": "isolated-better",
   "metadata": {},
   "outputs": [
    {
     "name": "stdout",
     "output_type": "stream",
     "text": [
      "안녕하세요\n",
      "공부하기\n"
     ]
    }
   ],
   "source": [
    "class Person:\n",
    "    def greeting(self):\n",
    "        print('안녕하세요')\n",
    "\n",
    "class Student(Person):\n",
    "    def study(self):\n",
    "        print('공부하기')\n",
    "\n",
    "james = Student()\n",
    "james.greeting()\n",
    "james.study()\n",
    "    "
   ]
  },
  {
   "cell_type": "code",
   "execution_count": 24,
   "id": "closing-cologne",
   "metadata": {},
   "outputs": [
    {
     "data": {
      "text/plain": [
       "True"
      ]
     },
     "execution_count": 24,
     "metadata": {},
     "output_type": "execute_result"
    }
   ],
   "source": [
    "# issubclass 상속 관계 확인하기 : 클래스의 상속관계(기반/파생)\n",
    "\n",
    "issubclass(Student, Person)"
   ]
  },
  {
   "cell_type": "code",
   "execution_count": 25,
   "id": "dominican-vehicle",
   "metadata": {},
   "outputs": [
    {
     "data": {
      "text/plain": [
       "False"
      ]
     },
     "execution_count": 25,
     "metadata": {},
     "output_type": "execute_result"
    }
   ],
   "source": [
    "issubclass(Person, Student)"
   ]
  },
  {
   "cell_type": "code",
   "execution_count": 27,
   "id": "coordinate-street",
   "metadata": {},
   "outputs": [],
   "source": [
    "\n",
    "class Polygon:\n",
    "    def __init__(self, noOfSides):\n",
    "        self.n = noOfSides\n",
    "        self.sides = [0 for i in range(noOfSides)]\n",
    "    def inputSides(self):\n",
    "        self.sides = [float(input(str(i+1) + \"번째 변의 길이:\")) for i in range(self.n)]\n",
    "    def dispSides(self):\n",
    "        for i in range(self.n):\n",
    "            print(i+1, \"번째 변 : \", self.sides[i])\n",
    "        "
   ]
  },
  {
   "cell_type": "code",
   "execution_count": 36,
   "id": "threatened-lyric",
   "metadata": {},
   "outputs": [],
   "source": [
    "class Triangle(Polygon):\n",
    "    def __init__(self):\n",
    "        Polygon.__init__(self, 3)\n",
    "    def findArea(self):\n",
    "        a, b, c = self.sides\n",
    "        s = (a+b+c) / 2\n",
    "        area = (s*(s-a)*(s-b)*(s-c))**0.5\n",
    "        print(\"삼각형의 넓이 : %10.2f\"%area)"
   ]
  },
  {
   "cell_type": "code",
   "execution_count": 39,
   "id": "decent-marshall",
   "metadata": {},
   "outputs": [],
   "source": [
    "t = Triangle()"
   ]
  },
  {
   "cell_type": "code",
   "execution_count": 40,
   "id": "executed-favorite",
   "metadata": {},
   "outputs": [
    {
     "name": "stdout",
     "output_type": "stream",
     "text": [
      "1번째 변의 길이:3\n",
      "2번째 변의 길이:5\n",
      "3번째 변의 길이:4\n"
     ]
    }
   ],
   "source": [
    "t.inputSides()"
   ]
  },
  {
   "cell_type": "code",
   "execution_count": 41,
   "id": "compatible-commonwealth",
   "metadata": {},
   "outputs": [
    {
     "name": "stdout",
     "output_type": "stream",
     "text": [
      "삼각형의 넓이 :       6.00\n"
     ]
    }
   ],
   "source": [
    "t.findArea()"
   ]
  },
  {
   "cell_type": "code",
   "execution_count": 50,
   "id": "former-trading",
   "metadata": {},
   "outputs": [],
   "source": [
    "class Person:\n",
    "    def __init__(self):\n",
    "        print(\"Person클래스의 생성자\")\n",
    "        self.hello = \"안녕하세요\"\n",
    "        \n",
    "class Student(Person):\n",
    "    def __init__(self):\n",
    "        super().__init__()\n",
    "\n",
    "        print(\"Student클래스의 생성자\")\n",
    "        self.school = \"한국아이티\"\n",
    "    "
   ]
  },
  {
   "cell_type": "code",
   "execution_count": 51,
   "id": "precious-worker",
   "metadata": {},
   "outputs": [
    {
     "name": "stdout",
     "output_type": "stream",
     "text": [
      "Person클래스의 생성자\n",
      "Student클래스의 생성자\n"
     ]
    }
   ],
   "source": [
    "hong = Student()"
   ]
  },
  {
   "cell_type": "code",
   "execution_count": 53,
   "id": "superior-transportation",
   "metadata": {},
   "outputs": [],
   "source": [
    "# 메서드 오버라이딩(1) : 기반 클래스의 메서드를 무시하고 새로운 메서드를 만든다는 뜻 \n",
    "class Person:\n",
    "    def greeting(self):\n",
    "        print(\"안녕하세요\")\n",
    "        \n",
    "class Student(Person):\n",
    "    pass\n"
   ]
  },
  {
   "cell_type": "code",
   "execution_count": 54,
   "id": "forward-buyer",
   "metadata": {},
   "outputs": [],
   "source": [
    "hong = Student()"
   ]
  },
  {
   "cell_type": "code",
   "execution_count": 55,
   "id": "assisted-powder",
   "metadata": {},
   "outputs": [
    {
     "name": "stdout",
     "output_type": "stream",
     "text": [
      "안녕하세요\n"
     ]
    }
   ],
   "source": [
    "hong.greeting()"
   ]
  },
  {
   "cell_type": "code",
   "execution_count": 56,
   "id": "professional-professor",
   "metadata": {},
   "outputs": [],
   "source": [
    "# 메서드 오버라이딩(2) \n",
    "class Person:\n",
    "    def greeting(self):\n",
    "        print(\"안녕하세요\")\n",
    "        \n",
    "class Student(Person):\n",
    "    def greeting(self):\n",
    "        print(\"건물을 세우고 싶어요\")\n"
   ]
  },
  {
   "cell_type": "code",
   "execution_count": 57,
   "id": "inappropriate-explorer",
   "metadata": {},
   "outputs": [],
   "source": [
    "hong = Student()"
   ]
  },
  {
   "cell_type": "code",
   "execution_count": 58,
   "id": "direct-peeing",
   "metadata": {},
   "outputs": [
    {
     "name": "stdout",
     "output_type": "stream",
     "text": [
      "건물을 세우고 싶어요\n"
     ]
    }
   ],
   "source": [
    "hong.greeting()"
   ]
  },
  {
   "cell_type": "code",
   "execution_count": 59,
   "id": "related-batman",
   "metadata": {},
   "outputs": [],
   "source": [
    "# 다중 상속 사용하기 : 여러기반 클래스로부터 상속을 받아서 파생 클래스를 만드는 방법\n",
    "\n",
    "class Person:\n",
    "    def greeting(self):\n",
    "        print(\"안녕하세요\")\n",
    "        \n",
    "class University:\n",
    "    def manage_credit(self):\n",
    "        print('학점관리')\n",
    "        \n",
    "class Undergraduate(Person, University):\n",
    "    def study(self):\n",
    "        print('공부하기')"
   ]
  },
  {
   "cell_type": "code",
   "execution_count": 60,
   "id": "engaged-landing",
   "metadata": {},
   "outputs": [],
   "source": [
    "hong = Undergraduate()"
   ]
  },
  {
   "cell_type": "code",
   "execution_count": 64,
   "id": "mental-dispute",
   "metadata": {},
   "outputs": [
    {
     "name": "stdout",
     "output_type": "stream",
     "text": [
      "공부하기\n",
      "안녕하세요\n",
      "학점관리\n"
     ]
    }
   ],
   "source": [
    "hong.study()\n",
    "hong.greeting()\n",
    "hong.manage_credit()"
   ]
  },
  {
   "cell_type": "code",
   "execution_count": 67,
   "id": "empty-plate",
   "metadata": {},
   "outputs": [
    {
     "data": {
      "text/plain": [
       "[int, object]"
      ]
     },
     "execution_count": 67,
     "metadata": {},
     "output_type": "execute_result"
    }
   ],
   "source": [
    "# mro(Method Resolution Order); 메서드 탐색 순서 : 다이아몬드 상속에 대한 해결책 제시\n",
    "int.mro()\n"
   ]
  },
  {
   "cell_type": "code",
   "execution_count": 69,
   "id": "vulnerable-toyota",
   "metadata": {},
   "outputs": [],
   "source": [
    "# 추상 클래스(abstract class) : 메서드의 목록만 가진 클래스이며 상속받는 클래스에서 메서드 구현을 강제하기 위해 사용\n",
    "# 추상메서드를 빈 메서드로 만드는 이유 : 추상클래스는 인스턴스로 만들 수 없고 만들면 에러가 발생함 -> 그래서 추상메서드를 만들때\n",
    "# pass를 넣어서 빈 메서드를 만듦\n",
    "\n",
    "from abc import *\n",
    "class StudentBase(metaclass=ABCMeta):\n",
    "    @abstractmethod\n",
    "    def study(self):\n",
    "        pass"
   ]
  },
  {
   "cell_type": "code",
   "execution_count": 70,
   "id": "appropriate-dealer",
   "metadata": {},
   "outputs": [],
   "source": [
    "class Student(StudentBase):\n",
    "    def study(self):\n",
    "        print(\"Student가 공부하기\")"
   ]
  },
  {
   "cell_type": "code",
   "execution_count": 72,
   "id": "known-complement",
   "metadata": {},
   "outputs": [
    {
     "name": "stdout",
     "output_type": "stream",
     "text": [
      "Student가 공부하기\n"
     ]
    }
   ],
   "source": [
    "hong = Student()\n",
    "hong.study()"
   ]
  },
  {
   "cell_type": "code",
   "execution_count": 77,
   "id": "surgical-penguin",
   "metadata": {},
   "outputs": [],
   "source": [
    "from abc import *\n",
    "class StudentBase(metaclass=ABCMeta):\n",
    "    \n",
    "    def study(self):\n",
    "        print(\"Student가 공부하기\")\n",
    "        \n",
    "    def gotoschool(self):\n",
    "        print(\"Student가 학교가기\")"
   ]
  },
  {
   "cell_type": "code",
   "execution_count": 78,
   "id": "occupied-intersection",
   "metadata": {},
   "outputs": [],
   "source": [
    "hong = Student()\n"
   ]
  },
  {
   "cell_type": "code",
   "execution_count": 79,
   "id": "strange-ireland",
   "metadata": {},
   "outputs": [],
   "source": [
    "from abc import *\n",
    "class StudentBase(metaclass=ABCMeta):\n",
    "    \n",
    "    def study(self):\n",
    "        print(\"Student가 공부하기\")\n",
    "        \n",
    "    def gotoschool(self):\n",
    "        pass"
   ]
  },
  {
   "cell_type": "code",
   "execution_count": 81,
   "id": "wired-columbia",
   "metadata": {},
   "outputs": [],
   "source": [
    "class ElementaryStudent(Student):\n",
    "    def gotoschool(self):\n",
    "        print(\"초등학생이 학교를 가요\")"
   ]
  },
  {
   "cell_type": "code",
   "execution_count": 83,
   "id": "sitting-brooklyn",
   "metadata": {},
   "outputs": [
    {
     "name": "stdout",
     "output_type": "stream",
     "text": [
      "초등학생이 학교를 가요\n"
     ]
    }
   ],
   "source": [
    "sooni = ElementaryStudent()\n",
    "sooni.gotoschool()"
   ]
  },
  {
   "cell_type": "code",
   "execution_count": null,
   "id": "flying-bubble",
   "metadata": {},
   "outputs": [],
   "source": []
  }
 ],
 "metadata": {
  "kernelspec": {
   "display_name": "Python 3",
   "language": "python",
   "name": "python3"
  },
  "language_info": {
   "codemirror_mode": {
    "name": "ipython",
    "version": 3
   },
   "file_extension": ".py",
   "mimetype": "text/x-python",
   "name": "python",
   "nbconvert_exporter": "python",
   "pygments_lexer": "ipython3",
   "version": "3.9.2"
  }
 },
 "nbformat": 4,
 "nbformat_minor": 5
}
