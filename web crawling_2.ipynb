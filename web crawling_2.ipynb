{
 "cells": [
  {
   "cell_type": "code",
   "execution_count": null,
   "id": "spoken-instrument",
   "metadata": {},
   "outputs": [],
   "source": [
    "!pip install bs4"
   ]
  },
  {
   "cell_type": "code",
   "execution_count": null,
   "id": "negative-lottery",
   "metadata": {},
   "outputs": [],
   "source": [
    "from bs4 import BeautifulSoup\n",
    "import urllib\n",
    "\n",
    "URL = 'http://www.naver.com'\n",
    "response_urllib = urllib.request.urlopen(URL)\n",
    "byte_data = response_urllib.read()\n",
    "text_data = byte_data.decode()\n",
    "\n",
    "soup = BeautifulSoup(text_data, 'html.parser')\n",
    "print(soup.prettify())"
   ]
  },
  {
   "cell_type": "code",
   "execution_count": null,
   "id": "published-tumor",
   "metadata": {},
   "outputs": [],
   "source": [
    "import requests\n",
    "from bs4 import BeautifulSoup\n",
    "\n",
    "req = requests.get('https://naver.com')\n",
    "html = req.text\n",
    "soup = BeautifulSoup(html, 'html.parser')\n",
    "\n",
    "result = soup.find_all('a', 'thumb', limit=5)\n",
    "news_list = []\n",
    "for i in result:\n",
    "    news_list.append(i.find(\"img\")[\"alt\"])\n",
    "print(news_list)\n",
    "\n",
    "print(soup.title)\n",
    "print(soup.title.name)\n",
    "print(soup.title.string)\n",
    "\n",
    "print(soup.img)"
   ]
  },
  {
   "cell_type": "code",
   "execution_count": null,
   "id": "associate-temple",
   "metadata": {},
   "outputs": [],
   "source": [
    "# 네이버 영화 랭킹 가져오기\n",
    "# 1. 홈페이지 텍스트 가져오기\n",
    "# https://movie.naver.com/movie/sdb/rank/rmovie.nhn\n",
    "# 2. BeautifulSoup으로 파싱하기\n",
    "import requests\n",
    "from bs4 import BeautifulSoup\n",
    "URL = \"https://movie.naver.com/movie/sdb/rank/rmovie.nhn\"\n",
    "req = requests.get(URL)\n",
    "html = req.text\n",
    "soup = BeautifulSoup(html, 'html.parser')\n",
    "print(soup)"
   ]
  },
  {
   "cell_type": "code",
   "execution_count": null,
   "id": "original-cedar",
   "metadata": {
    "scrolled": true
   },
   "outputs": [],
   "source": [
    "# 텍스트에서 영화 랭킹 가져오기 Step 2.\n",
    "# 1. 텍스트에서 영화 랭킹 찾기\n",
    "# 2. 영화랭킹에 해당하는 부분의 태그 찾기\n",
    "movie_ranking_list = soup.find_all('div', 'tit3')\n",
    "for i in range(len(movie_ranking_list)):\n",
    "    print(\"{:2}위:{}\".format(i+1, movie_ranking_list[i].get_text().strip()))"
   ]
  },
  {
   "cell_type": "code",
   "execution_count": null,
   "id": "entire-september",
   "metadata": {},
   "outputs": [],
   "source": [
    "# BeautifulSoup 모듈을 활용하여 네이버 뉴스 페이지의 헤드라인 뉴스를 가져오는 \n",
    "# 코드를 작성하세요.\n",
    "import requests\n",
    "from bs4 import BeautifulSoup\n",
    "URL = \"https://news.naver.com\"\n",
    "req = requests.get(URL)\n",
    "html = req.text\n",
    "soup = BeautifulSoup(html, 'html.parser')\n",
    "print(soup)"
   ]
  },
  {
   "cell_type": "code",
   "execution_count": null,
   "id": "legendary-transcript",
   "metadata": {},
   "outputs": [],
   "source": [
    "head_news_list = []\n",
    "result_bit = soup.find_all('p', \"hdline_fick_kit\")\n",
    "for i in result_big:\n",
    "    head_news_list.append(i.get_text())\n",
    "result_small = soup.find_all('div', \"hdline_article_tit\")\n",
    "for i in result_small:\n",
    "    head_news_list.append(i.get_text().strip())\n",
    "print(head_news_list)"
   ]
  },
  {
   "cell_type": "code",
   "execution_count": null,
   "id": "thirty-harrison",
   "metadata": {},
   "outputs": [],
   "source": [
    "# BeautifulSoup 모듈을 활용하여 네이버 뉴스 페이지의 헤드라인 뉴스를 가져오는 \n",
    "# 코드를 작성하세요.\n",
    "import requests\n",
    "from bs4 import BeautifulSoup\n",
    "URL = \"http://news.naver.com\"\n",
    "req = requests.get(URL)\n",
    "html = req.text\n",
    "soup = BeautifulSoup(html, 'html.parser')\n",
    "print(soup)\n",
    "\n",
    "head_news_list = []\n",
    "result_bit = soup.find_all('p', \"hdline_fick_kit\")\n",
    "for i in result_big:\n",
    "    head_news_list.append(i.get_text())\n",
    "result_small = soup.find_all('div', \"hdline_article_tit\")\n",
    "for i in result_small:\n",
    "    head_news_list.append(i.get_text().strip())\n",
    "print(head_news_list)"
   ]
  },
  {
   "cell_type": "code",
   "execution_count": null,
   "id": "typical-caution",
   "metadata": {},
   "outputs": [],
   "source": []
  }
 ],
 "metadata": {
  "kernelspec": {
   "display_name": "Python 3",
   "language": "python",
   "name": "python3"
  },
  "language_info": {
   "codemirror_mode": {
    "name": "ipython",
    "version": 3
   },
   "file_extension": ".py",
   "mimetype": "text/x-python",
   "name": "python",
   "nbconvert_exporter": "python",
   "pygments_lexer": "ipython3",
   "version": "3.9.2"
  }
 },
 "nbformat": 4,
 "nbformat_minor": 5
}
