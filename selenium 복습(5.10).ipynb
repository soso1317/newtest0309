{
 "cells": [
  {
   "cell_type": "code",
   "execution_count": 1,
   "id": "digital-heading",
   "metadata": {},
   "outputs": [],
   "source": [
    "import selenium\n",
    "from selenium import webdriver"
   ]
  },
  {
   "cell_type": "code",
   "execution_count": 2,
   "id": "unavailable-discipline",
   "metadata": {},
   "outputs": [],
   "source": [
    "path = \"C:/Users/user/webdriver/chromedriver.exe\""
   ]
  },
  {
   "cell_type": "code",
   "execution_count": 10,
   "id": "banner-valley",
   "metadata": {},
   "outputs": [],
   "source": [
    "driver = webdriver.Chrome(path)\n",
    "driver.get('https://www.daum.net')\n",
    "\n",
    "element = driver.find_element_by_class_name(\"link_kakaoid\")\n",
    "element.click()"
   ]
  },
  {
   "cell_type": "code",
   "execution_count": 16,
   "id": "sharing-integration",
   "metadata": {},
   "outputs": [],
   "source": [
    "import selenium\n",
    "import time\n",
    "from selenium import webdriver\n",
    "\n",
    "driver = webdriver.Chrome(path)\n",
    "driver.get('https://www.daum.net')\n",
    "\n",
    "element = driver.find_element_by_class_name(\"link_kakaoid\")\n",
    "element.click()\n",
    "id = 'yr562@naver.com'\n",
    "pwd = 'daniel1317!'\n",
    "\n",
    "driver.execute_script(\"document.getElementById('id_email_2').value=\\'\" + id +\"\\'\")\n",
    "time.sleep(1)\n",
    "driver.execute_script(\"document.getElementById('id_password_3').value=\\'\" + pwd +\"\\'\")\n",
    "time.sleep(1)\n",
    "\n",
    "logbtn = driver.find_element_by_class_name(\"btn_confirm\")\n",
    "logbtn.click()"
   ]
  },
  {
   "cell_type": "code",
   "execution_count": 17,
   "id": "heated-advocacy",
   "metadata": {},
   "outputs": [
    {
     "name": "stdout",
     "output_type": "stream",
     "text": [
      "input your idyr562@naver.com\n",
      "input your pwddaniel1317!\n"
     ]
    }
   ],
   "source": [
    "import selenium\n",
    "import time\n",
    "from selenium import webdriver\n",
    "\n",
    "driver = webdriver.Chrome(path)\n",
    "driver.get('https://www.daum.net')\n",
    "\n",
    "element = driver.find_element_by_class_name(\"link_kakaoid\")\n",
    "element.click()\n",
    "#id = 'yr562@naver.com'\n",
    "#pwd = 'daniel1317!'\n",
    "id = input('input your id')\n",
    "pwd = input('input your pwd')\n",
    "\n",
    "driver.execute_script(\"document.getElementById('id_email_2').value=\\'\" + id +\"\\'\")\n",
    "time.sleep(1)\n",
    "driver.execute_script(\"document.getElementById('id_password_3').value=\\'\" + pwd +\"\\'\")\n",
    "time.sleep(1)\n",
    "\n",
    "logbtn = driver.find_element_by_class_name(\"btn_confirm\")\n",
    "logbtn.click()"
   ]
  },
  {
   "cell_type": "code",
   "execution_count": null,
   "id": "floppy-pressing",
   "metadata": {},
   "outputs": [],
   "source": []
  }
 ],
 "metadata": {
  "kernelspec": {
   "display_name": "Python 3",
   "language": "python",
   "name": "python3"
  },
  "language_info": {
   "codemirror_mode": {
    "name": "ipython",
    "version": 3
   },
   "file_extension": ".py",
   "mimetype": "text/x-python",
   "name": "python",
   "nbconvert_exporter": "python",
   "pygments_lexer": "ipython3",
   "version": "3.9.2"
  }
 },
 "nbformat": 4,
 "nbformat_minor": 5
}
