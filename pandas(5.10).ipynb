{
 "cells": [
  {
   "cell_type": "code",
   "execution_count": 1,
   "id": "governing-elizabeth",
   "metadata": {},
   "outputs": [
    {
     "name": "stdout",
     "output_type": "stream",
     "text": [
      "Collecting pandas\n",
      "  Downloading pandas-1.2.4-cp39-cp39-win_amd64.whl (9.3 MB)\n",
      "Requirement already satisfied: pytz>=2017.3 in c:\\users\\user\\appdata\\local\\programs\\python\\python39\\lib\\site-packages (from pandas) (2021.1)\n",
      "Requirement already satisfied: python-dateutil>=2.7.3 in c:\\users\\user\\appdata\\local\\programs\\python\\python39\\lib\\site-packages (from pandas) (2.8.1)\n",
      "Collecting numpy>=1.16.5\n",
      "  Downloading numpy-1.20.2-cp39-cp39-win_amd64.whl (13.7 MB)\n",
      "Requirement already satisfied: six>=1.5 in c:\\users\\user\\appdata\\local\\programs\\python\\python39\\lib\\site-packages (from python-dateutil>=2.7.3->pandas) (1.15.0)\n",
      "Installing collected packages: numpy, pandas\n",
      "Successfully installed numpy-1.20.2 pandas-1.2.4\n"
     ]
    }
   ],
   "source": [
    "# pandas 설치와 import\n",
    "\n",
    "!pip install pandas"
   ]
  },
  {
   "cell_type": "code",
   "execution_count": 2,
   "id": "operational-hawaiian",
   "metadata": {},
   "outputs": [],
   "source": [
    "import pandas as pd\n",
    "import numpy as np"
   ]
  },
  {
   "cell_type": "code",
   "execution_count": 5,
   "id": "jewish-stand",
   "metadata": {},
   "outputs": [
    {
     "name": "stdout",
     "output_type": "stream",
     "text": [
      "0    1\n",
      "1    2\n",
      "2    3\n",
      "3    4\n",
      "4    5\n",
      "dtype: int64\n"
     ]
    }
   ],
   "source": [
    "s = pd.Series([1,2,3,4,5])\n",
    "print(s)"
   ]
  },
  {
   "cell_type": "code",
   "execution_count": 6,
   "id": "exciting-heaven",
   "metadata": {
    "scrolled": true
   },
   "outputs": [
    {
     "name": "stdout",
     "output_type": "stream",
     "text": [
      "RangeIndex(start=0, stop=5, step=1)\n"
     ]
    }
   ],
   "source": [
    "print(s.index)"
   ]
  },
  {
   "cell_type": "code",
   "execution_count": 11,
   "id": "institutional-pressure",
   "metadata": {},
   "outputs": [
    {
     "name": "stdout",
     "output_type": "stream",
     "text": [
      "     A           B  C  D  E    F\n",
      "0  1.0  2021-05-10  1  5  0  Web\n",
      "1  1.0  2021-05-10  2  6  0  Web\n",
      "2  1.0  2021-05-10  3  7  0  Web\n",
      "3  1.0  2021-05-10  4  8  0  Web\n"
     ]
    }
   ],
   "source": [
    "df = pd.DataFrame(\n",
    "    {\n",
    "        'A':1.,\n",
    "        'B':'2021-05-10',\n",
    "        'C':[1,2,3,4],\n",
    "        'D':(5,6,7,8),\n",
    "        'E':0,\n",
    "        'F':'Web'\n",
    "    })\n",
    "print(df)"
   ]
  },
  {
   "cell_type": "code",
   "execution_count": 12,
   "id": "optimum-shepherd",
   "metadata": {},
   "outputs": [
    {
     "name": "stdout",
     "output_type": "stream",
     "text": [
      "RangeIndex(start=0, stop=4, step=1)\n"
     ]
    }
   ],
   "source": [
    "print(df.index)"
   ]
  },
  {
   "cell_type": "code",
   "execution_count": 13,
   "id": "enhanced-audio",
   "metadata": {},
   "outputs": [
    {
     "name": "stdout",
     "output_type": "stream",
     "text": [
      "Index(['A', 'B', 'C', 'D', 'E', 'F'], dtype='object')\n"
     ]
    }
   ],
   "source": [
    "print(df.columns)"
   ]
  },
  {
   "cell_type": "code",
   "execution_count": 14,
   "id": "forward-singer",
   "metadata": {},
   "outputs": [
    {
     "name": "stdout",
     "output_type": "stream",
     "text": [
      "  name  year  points\n",
      "0    A  2017     3.5\n",
      "1    B  2018     4.2\n",
      "2    C  2019     2.6\n",
      "3    D  2020     7.4\n",
      "4    E  2021     1.9\n"
     ]
    }
   ],
   "source": [
    "data = {'name':['A', 'B', 'C', 'D', 'E'],\n",
    "       'year':[2017, 2018, 2019, 2020, 2021],\n",
    "       'points':[3.5, 4.2, 2.6, 7.4, 1.9]}\n",
    "df2 = pd.DataFrame(data)\n",
    "print(df2)"
   ]
  },
  {
   "cell_type": "code",
   "execution_count": 16,
   "id": "clinical-powell",
   "metadata": {},
   "outputs": [
    {
     "name": "stdout",
     "output_type": "stream",
     "text": [
      "   points\n",
      "0     3.5\n",
      "1     4.2\n",
      "2     2.6\n",
      "3     7.4\n",
      "4     1.9\n"
     ]
    }
   ],
   "source": [
    "print(df2[['points']])"
   ]
  },
  {
   "cell_type": "code",
   "execution_count": 17,
   "id": "written-omega",
   "metadata": {},
   "outputs": [],
   "source": [
    "df2.loc[5,:] = ['F', 2022, 4.0]"
   ]
  },
  {
   "cell_type": "code",
   "execution_count": 18,
   "id": "promotional-drill",
   "metadata": {},
   "outputs": [
    {
     "name": "stdout",
     "output_type": "stream",
     "text": [
      "  name    year  points\n",
      "0    A  2017.0     3.5\n",
      "1    B  2018.0     4.2\n",
      "2    C  2019.0     2.6\n",
      "3    D  2020.0     7.4\n",
      "4    E  2021.0     1.9\n",
      "5    F  2022.0     4.0\n"
     ]
    }
   ],
   "source": [
    "print(df2)"
   ]
  },
  {
   "cell_type": "code",
   "execution_count": null,
   "id": "lined-birth",
   "metadata": {},
   "outputs": [],
   "source": []
  }
 ],
 "metadata": {
  "kernelspec": {
   "display_name": "Python 3",
   "language": "python",
   "name": "python3"
  },
  "language_info": {
   "codemirror_mode": {
    "name": "ipython",
    "version": 3
   },
   "file_extension": ".py",
   "mimetype": "text/x-python",
   "name": "python",
   "nbconvert_exporter": "python",
   "pygments_lexer": "ipython3",
   "version": "3.9.2"
  }
 },
 "nbformat": 4,
 "nbformat_minor": 5
}
